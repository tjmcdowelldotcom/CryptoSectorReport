{
 "cells": [
  {
   "cell_type": "code",
   "execution_count": 37,
   "id": "7afd2dde",
   "metadata": {},
   "outputs": [],
   "source": [
    "import os\n",
    "import numpy as np\n",
    "import pandas as pd\n",
    "import matplotlib\n",
    "# import mplfinance as mpf\n",
    "import asyncio\n",
    "import plotly.express as px\n",
    "from pathlib import Path\n",
    "import time as t\n",
    "import threading\n",
    "import requests\n",
    "from requests import Request, Session\n",
    "import datetime\n",
    "from requests.exceptions import ConnectionError, Timeout, TooManyRedirects\n",
    "import json\n",
    "\n",
    "%matplotlib inline"
   ]
  },
  {
   "cell_type": "code",
   "execution_count": 38,
   "id": "2144275a",
   "metadata": {},
   "outputs": [],
   "source": [
    "from dotenv import load_dotenv\n",
    "load_dotenv()\n",
    "cmc_key = os.getenv('CMC_KEY')"
   ]
  },
  {
   "cell_type": "markdown",
   "id": "692d2449",
   "metadata": {},
   "source": [
    "***_INDEX TOKENS_***"
   ]
  },
  {
   "cell_type": "code",
   "execution_count": 39,
   "id": "4070e2fe",
   "metadata": {},
   "outputs": [],
   "source": [
    "# Request data from Kuc API & Convert to Json\n",
    "btc = requests.get('https://api.kucoin.com/api/v1/market/candles?type=8hour&symbol=BTC-USDT&startAt=1620360000&endAt=0')\n",
    "btc_j = btc.json()\n",
    "\n",
    "# Convert json to DataFrame\n",
    "btc_df = pd.DataFrame(btc_j['data'])\n",
    "\n",
    "# Rename Date, Open, & Close columns and remove others\n",
    "btc_df.rename(columns={0:'Date',1:'Open',2:'Close'}, inplace=True)\n",
    "\n",
    "btc_df.drop(columns = [3,4,5,6], inplace=True)\n",
    "\n",
    "# Create A DF with Median Price \n",
    "\n",
    "btc_median = btc_df[['Open','Close']].astype(float)\n",
    "\n",
    "btc_median['BTC Median'] = btc_median[['Open','Close']].mean(axis=1)\n",
    "btc_median = btc_median['BTC Median']\n",
    "\n",
    "btc_df_date = pd.to_datetime(btc_df['Date'], unit='s')\n",
    "btc_date = [btc_df_date, btc_median]\n",
    "btc_result = pd.concat(btc_date, axis=1, join = 'outer')\n",
    "btc_plot = btc_result.set_index('Date')\n",
    "btc_result.set_index('Date', inplace=True)"
   ]
  },
  {
   "cell_type": "code",
   "execution_count": 40,
   "id": "e012ff12",
   "metadata": {},
   "outputs": [
    {
     "data": {
      "image/png": "[encoded data removed]",
      "text/plain": [
       "<Figure size 432x288 with 1 Axes>"
      ]
     },
     "metadata": {
      "needs_background": "light"
     },
     "output_type": "display_data"
    }
   ],
   "source": [
    "btc_plot.plot();"
   ]
  },
  {
   "cell_type": "code",
   "execution_count": 41,
   "id": "2e184e37",
   "metadata": {},
   "outputs": [],
   "source": [
    "eth = requests.get('https://api.kucoin.com/api/v1/market/candles?type=8hour&symbol=ETH-USDT&startAt=1620360000&endAt=0')\n",
    "eth_j = eth.json()\n",
    "eth_df = pd.DataFrame(eth_j['data'])\n",
    "eth_df.rename(columns={0:'Date',1:'Open',2:'Close'}, inplace=True)\n",
    "eth_df.drop(columns = [3,4,5,6], inplace=True)\n",
    "eth_median = eth_df[['Open','Close']].astype(float)\n",
    "eth_median['ETH Median'] = eth_median[['Open','Close']].mean(axis=1)\n",
    "eth_median = eth_median['ETH Median']\n",
    "eth_df_date = pd.to_datetime(eth_df['Date'], unit='s')\n",
    "eth_date = [eth_df_date, eth_median]\n",
    "eth_result = pd.concat(eth_date, axis=1, join = 'outer')\n",
    "eth_result.set_index('Date', inplace=True)"
   ]
  },
  {
   "cell_type": "code",
   "execution_count": 42,
   "id": "c59e96af",
   "metadata": {},
   "outputs": [],
   "source": [
    "bnb = requests.get('https://api.kucoin.com/api/v1/market/candles?type=8hour&symbol=BNB-USDT&startAt=1620360000&endAt=0')\n",
    "bnb_j = bnb.json()\n",
    "bnb_df = pd.DataFrame(bnb_j['data'])\n",
    "bnb_df.rename(columns={0:'Date',1:'Open',2:'Close'}, inplace=True)\n",
    "bnb_df.drop(columns = [3,4,5,6], inplace=True)\n",
    "bnb_median = bnb_df[['Open','Close']].astype(float)\n",
    "bnb_median['BNB Median'] = bnb_median[['Open','Close']].mean(axis=1)\n",
    "bnb_median = bnb_median['BNB Median']\n",
    "bnb_df_date = pd.to_datetime(bnb_df['Date'], unit='s')\n",
    "bnb_date = [bnb_df_date, bnb_median]\n",
    "bnb_result = pd.concat(bnb_date, axis=1, join = 'outer')\n",
    "bnb_result.set_index('Date', inplace=True)"
   ]
  },
  {
   "cell_type": "code",
   "execution_count": 43,
   "id": "455efac8",
   "metadata": {},
   "outputs": [],
   "source": [
    "doge = requests.get('https://api.kucoin.com/api/v1/market/candles?type=8hour&symbol=DOGE-USDT&startAt=1620360000&endAt=0')\n",
    "doge_j = doge.json()\n",
    "doge_df = pd.DataFrame(doge_j['data'])\n",
    "doge_df.rename(columns={0:'Date',1:'Open',2:'Close'}, inplace=True)\n",
    "doge_df.drop(columns = [3,4,5,6], inplace=True)\n",
    "doge_median = doge_df[['Open','Close']].astype(float)\n",
    "doge_median['DOGE Median'] = doge_median[['Open','Close']].mean(axis=1)\n",
    "doge_median = doge_median['DOGE Median']\n",
    "doge_df_date = pd.to_datetime(doge_df['Date'], unit='s')\n",
    "doge_date = [doge_df_date, doge_median]\n",
    "doge_result = pd.concat(doge_date, axis=1, join = 'outer')\n",
    "doge_result.set_index('Date', inplace=True)"
   ]
  },
  {
   "cell_type": "code",
   "execution_count": 44,
   "id": "dff4fc0c",
   "metadata": {},
   "outputs": [],
   "source": [
    "ltc = requests.get('https://api.kucoin.com/api/v1/market/candles?type=8hour&symbol=LTC-USDT&startAt=1620360000&endAt=0')\n",
    "ltc_j = ltc.json()\n",
    "ltc_df = pd.DataFrame(ltc_j['data'])\n",
    "ltc_df.rename(columns={0:'Date',1:'Open',2:'Close'}, inplace=True)\n",
    "ltc_df.drop(columns = [3,4,5,6], inplace=True)\n",
    "ltc_median = ltc_df[['Open','Close']].astype(float)\n",
    "ltc_median['LTC Median'] = ltc_median[['Open','Close']].mean(axis=1)\n",
    "ltc_median = ltc_median['LTC Median']\n",
    "ltc_df_date = pd.to_datetime(ltc_df['Date'], unit='s')\n",
    "ltc_date = [ltc_df_date, ltc_median]\n",
    "ltc_result = pd.concat(ltc_date, axis=1, join = 'outer')\n",
    "ltc_result.set_index('Date', inplace=True)"
   ]
  },
  {
   "cell_type": "code",
   "execution_count": 45,
   "id": "ea77fc7d",
   "metadata": {},
   "outputs": [],
   "source": [
    "ada = requests.get('https://api.kucoin.com/api/v1/market/candles?type=8hour&symbol=ADA-USDT&startAt=1620360000&endAt=0')\n",
    "ada_j = ada.json()\n",
    "ada_df = pd.DataFrame(ada_j['data'])\n",
    "ada_df.rename(columns={0:'Date',1:'Open',2:'Close'}, inplace=True)\n",
    "ada_df.drop(columns = [3,4,5,6], inplace=True)\n",
    "ada_median = ada_df[['Open','Close']].astype(float)\n",
    "ada_median['ADA Median'] = ada_median[['Open','Close']].mean(axis=1)\n",
    "ada_median = ada_median['ADA Median']\n",
    "ada_df_date = pd.to_datetime(ada_df['Date'], unit='s')\n",
    "ada_date = [ada_df_date, ada_median]\n",
    "ada_result = pd.concat(ada_date, axis=1, join = 'outer')\n",
    "ada_result.set_index('Date', inplace=True)"
   ]
  },
  {
   "cell_type": "code",
   "execution_count": 46,
   "id": "86d7dc94",
   "metadata": {},
   "outputs": [],
   "source": [
    "xrp = requests.get('https://api.kucoin.com/api/v1/market/candles?type=8hour&symbol=XRP-USDT&startAt=1620360000&endAt=0')\n",
    "xrp_j = xrp.json()\n",
    "xrp_df = pd.DataFrame(xrp_j['data'])\n",
    "xrp_df.rename(columns={0:'Date',1:'Open',2:'Close'}, inplace=True)\n",
    "xrp_df.drop(columns = [3,4,5,6], inplace=True)\n",
    "xrp_median = xrp_df[['Open','Close']].astype(float)\n",
    "xrp_median['XRP Median'] = xrp_median[['Open','Close']].mean(axis=1)\n",
    "xrp_median = xrp_median['XRP Median']\n",
    "xrp_df_date = pd.to_datetime(xrp_df['Date'], unit='s')\n",
    "xrp_date = [xrp_df_date, xrp_median]\n",
    "xrp_result = pd.concat(xrp_date, axis=1, join = 'outer')\n",
    "xrp_result.set_index('Date', inplace=True)"
   ]
  },
  {
   "cell_type": "code",
   "execution_count": 47,
   "id": "c82a0efa",
   "metadata": {},
   "outputs": [],
   "source": [
    "usdt = requests.get('https://api.kucoin.com/api/v1/market/candles?type=8hour&symbol=USDT-USDC&startAt=1620360000&endAt=0')\n",
    "usdt_j = usdt.json()\n",
    "usdt_df = pd.DataFrame(usdt_j['data'])\n",
    "usdt_df.rename(columns={0:'Date',1:'Open',2:'Close'}, inplace=True)\n",
    "usdt_df.drop(columns = [3,4,5,6], inplace=True)\n",
    "usdt_median = usdt_df[['Open','Close']].astype(float)\n",
    "usdt_median['USDT Median'] = usdt_median[['Open','Close']].mean(axis=1)\n",
    "usdt_median = usdt_median['USDT Median']\n",
    "usdt_df_date = pd.to_datetime(usdt_df['Date'], unit='s')\n",
    "usdt_date = [usdt_df_date, usdt_median]\n",
    "usdt_result = pd.concat(usdt_date, axis=1, join = 'outer')\n",
    "usdt_result.set_index('Date', inplace=True)"
   ]
  },
  {
   "cell_type": "code",
   "execution_count": 48,
   "id": "d22e13a0",
   "metadata": {},
   "outputs": [],
   "source": [
    "link = requests.get('https://api.kucoin.com/api/v1/market/candles?type=8hour&symbol=LINK-USDT&startAt=1620360000&endAt=0')\n",
    "link_j = link.json()\n",
    "link_df = pd.DataFrame(link_j['data'])\n",
    "link_df.rename(columns={0:'Date',1:'Open',2:'Close'}, inplace=True)\n",
    "link_df.drop(columns = [3,4,5,6], inplace=True)\n",
    "link_median = link_df[['Open','Close']].astype(float)\n",
    "link_median['LINK Median'] = link_median[['Open','Close']].mean(axis=1)\n",
    "link_median = link_median['LINK Median']\n",
    "link_df_date = pd.to_datetime(link_df['Date'], unit='s')\n",
    "link_date = [link_df_date, link_median]\n",
    "link_result = pd.concat(link_date, axis=1, join = 'outer')\n",
    "link_result.set_index('Date', inplace=True)"
   ]
  },
  {
   "cell_type": "code",
   "execution_count": 49,
   "id": "347299da",
   "metadata": {},
   "outputs": [],
   "source": [
    "uni = requests.get('https://api.kucoin.com/api/v1/market/candles?type=8hour&symbol=UNI-USDT&startAt=1620360000&endAt=0')\n",
    "uni_j = uni.json()\n",
    "uni_df = pd.DataFrame(uni_j['data'])\n",
    "uni_df.rename(columns={0:'Date',1:'Open',2:'Close'}, inplace=True)\n",
    "uni_df.drop(columns = [3,4,5,6], inplace=True)\n",
    "uni_median = uni_df[['Open','Close']].astype(float)\n",
    "uni_median['UNI Median'] = uni_median[['Open','Close']].mean(axis=1)\n",
    "uni_median = uni_median['UNI Median']\n",
    "uni_df_date = pd.to_datetime(uni_df['Date'], unit='s')\n",
    "uni_date = [uni_df_date, uni_median]\n",
    "uni_result = pd.concat(uni_date, axis=1, join = 'outer')\n",
    "uni_result.set_index('Date', inplace=True)"
   ]
  },
  {
   "cell_type": "code",
   "execution_count": 50,
   "id": "6d728b8d",
   "metadata": {},
   "outputs": [],
   "source": [
    "dot = requests.get('https://api.kucoin.com/api/v1/market/candles?type=8hour&symbol=DOT-USDT&startAt=1620360000&endAt=0')\n",
    "dot_j = dot.json()\n",
    "dot_df = pd.DataFrame(dot_j['data'])\n",
    "dot_df.rename(columns={0:'Date',1:'Open',2:'Close'}, inplace=True)\n",
    "dot_df.drop(columns = [3,4,5,6], inplace=True)\n",
    "dot_median = dot_df[['Open','Close']].astype(float)\n",
    "dot_median['DOT Median'] = dot_median[['Open','Close']].mean(axis=1)\n",
    "dot_median = dot_median['DOT Median']\n",
    "dot_df_date = pd.to_datetime(dot_df['Date'], unit='s')\n",
    "dot_date = [dot_df_date, dot_median]\n",
    "dot_result = pd.concat(dot_date, axis=1, join = 'outer')\n",
    "dot_result.set_index('Date', inplace=True)"
   ]
  },
  {
   "cell_type": "code",
   "execution_count": 51,
   "id": "89971874",
   "metadata": {},
   "outputs": [],
   "source": [
    "#sol = requests.get('https://api.kucoin.com/api/v1/market/candles?type=8hour&symbol=SOL-USDT&startAt=1620360000&endAt=0')\n",
    "sol = requests.get('https://api.binance.com/api/v3/klines?symbol=SOLUSDT&interval=8h&startTime=1620360000000&limit=666')\n",
    "sol_j = sol.json()\n",
    "sol_df = pd.DataFrame(sol_j)\n",
    "sol_df.rename(columns={0:'Date',1:'Open',2:'Close'}, inplace=True)\n",
    "sol_df.drop(columns = [3,4,5,6], inplace=True)\n",
    "sol_median = sol_df[['Open','Close']].astype(float)\n",
    "sol_median['SOL Median'] = sol_median[['Open','Close']].mean(axis=1)\n",
    "sol_median = sol_median['SOL Median']\n",
    "sol_df_date = pd.to_datetime(sol_df['Date'], unit='ms')\n",
    "sol_date = [sol_df_date, sol_median]\n",
    "sol_result = pd.concat(sol_date, axis=1, join = 'outer')\n",
    "sol_result.set_index('Date', inplace=True)\n",
    "#sol_result.to_csv('sol_result.csv')"
   ]
  },
  {
   "cell_type": "code",
   "execution_count": 52,
   "id": "c5640b15",
   "metadata": {},
   "outputs": [],
   "source": [
    "luna = requests.get('https://api.kucoin.com/api/v1/market/candles?type=8hour&symbol=LUNA-USDT&startAt=1620360000&endAt=0')\n",
    "luna_j = luna.json()\n",
    "luna_df = pd.DataFrame(luna_j['data'])\n",
    "luna_df.rename(columns={0:'Date',1:'Open',2:'Close'}, inplace=True)\n",
    "luna_df.drop(columns = [3,4,5,6], inplace=True)\n",
    "luna_median = luna_df[['Open','Close']].astype(float)\n",
    "luna_median['LUNA Median'] = luna_median[['Open','Close']].mean(axis=1)\n",
    "luna_median = luna_median['LUNA Median']\n",
    "luna_df_date = pd.to_datetime(luna_df['Date'], unit='s')\n",
    "luna_date = [luna_df_date, luna_median]\n",
    "luna_result = pd.concat(luna_date, axis=1, join = 'outer')\n",
    "luna_result.set_index('Date', inplace=True)"
   ]
  },
  {
   "cell_type": "code",
   "execution_count": 53,
   "id": "c5a16999",
   "metadata": {},
   "outputs": [],
   "source": [
    "avax = requests.get('https://api.kucoin.com/api/v1/market/candles?type=8hour&symbol=AVAX-USDT&startAt=1620360000&endAt=0')\n",
    "avax_j = avax.json()\n",
    "avax_df = pd.DataFrame(avax_j['data'])\n",
    "avax_df.rename(columns={0:'Date',1:'Open',2:'Close'}, inplace=True)\n",
    "avax_df.drop(columns = [3,4,5,6], inplace=True)\n",
    "avax_median = avax_df[['Open','Close']].astype(float)\n",
    "avax_median['AVAX Median'] = avax_median[['Open','Close']].mean(axis=1)\n",
    "avax_median = avax_median['AVAX Median']\n",
    "avax_df_date = pd.to_datetime(avax_df['Date'], unit='s')\n",
    "avax_date = [avax_df_date, avax_median]\n",
    "avax_result = pd.concat(avax_date, axis=1, join = 'outer')\n",
    "avax_result.set_index('Date', inplace=True)"
   ]
  },
  {
   "cell_type": "code",
   "execution_count": 54,
   "id": "a87daeb3",
   "metadata": {},
   "outputs": [],
   "source": [
    "algo = requests.get('https://api.kucoin.com/api/v1/market/candles?type=8hour&symbol=ALGO-USDT&startAt=1620360000&endAt=0')\n",
    "algo_j = algo.json()\n",
    "algo_df = pd.DataFrame(algo_j['data'])\n",
    "algo_df.rename(columns={0:'Date',1:'Open',2:'Close'}, inplace=True)\n",
    "algo_df.drop(columns = [3,4,5,6], inplace=True)\n",
    "algo_median = algo_df[['Open','Close']].astype(float)\n",
    "algo_median['ALGO Median'] = algo_median[['Open','Close']].mean(axis=1)\n",
    "algo_median = algo_median['ALGO Median']\n",
    "algo_df_date = pd.to_datetime(algo_df['Date'], unit='s')\n",
    "algo_date = [algo_df_date, algo_median]\n",
    "algo_result = pd.concat(algo_date, axis=1, join = 'outer')\n",
    "algo_result.set_index('Date', inplace=True)"
   ]
  },
  {
   "cell_type": "code",
   "execution_count": 55,
   "id": "3340aa04",
   "metadata": {},
   "outputs": [],
   "source": [
    "bch = requests.get('https://api.kucoin.com/api/v1/market/candles?type=8hour&symbol=BCH-USDT&startAt=1620360000&endAt=0')\n",
    "bch_j = bch.json()\n",
    "bch_df = pd.DataFrame(bch_j['data'])\n",
    "bch_df.rename(columns={0:'Date',1:'Open',2:'Close'}, inplace=True)\n",
    "bch_df.drop(columns = [3,4,5,6], inplace=True)\n",
    "bch_median = bch_df[['Open','Close']].astype(float)\n",
    "bch_median['BCH Median'] = bch_median[['Open','Close']].mean(axis=1)\n",
    "bch_median = bch_median['BCH Median']\n",
    "bch_df_date = pd.to_datetime(bch_df['Date'], unit='s')\n",
    "bch_date = [bch_df_date, bch_median]\n",
    "bch_result = pd.concat(bch_date, axis=1, join = 'outer')\n",
    "bch_result.set_index('Date', inplace=True)"
   ]
  },
  {
   "cell_type": "code",
   "execution_count": 56,
   "id": "05b1d5ac",
   "metadata": {},
   "outputs": [],
   "source": [
    "matic = requests.get('https://api.binance.com/api/v3/klines?symbol=MATICBUSD&interval=8h&startTime=1620360000000&limit=666')\n",
    "matic_j = matic.json()\n",
    "matic_df = pd.DataFrame(matic_j)\n",
    "matic_df.rename(columns={0:'Date',1:'Open',2:'Close'}, inplace=True)\n",
    "matic_df.drop(columns = [3,4,5,6], inplace=True)\n",
    "matic_median = matic_df[['Open','Close']].astype(float)\n",
    "matic_median['MATIC Median'] = matic_median[['Open','Close']].mean(axis=1)\n",
    "matic_median = matic_median['MATIC Median']\n",
    "matic_df_date = pd.to_datetime(matic_df['Date'], unit='ms')\n",
    "matic_date = [matic_df_date, matic_median]\n",
    "matic_result = pd.concat(matic_date, axis=1, join = 'outer')\n",
    "matic_result.set_index('Date', inplace=True)\n",
    "matic_result.to_csv('matic_result.csv')"
   ]
  },
  {
   "cell_type": "code",
   "execution_count": 57,
   "id": "ddead2c3",
   "metadata": {},
   "outputs": [],
   "source": [
    "vet = requests.get('https://api.kucoin.com/api/v1/market/candles?type=8hour&symbol=VET-USDT&startAt=1620360000&endAt=0')\n",
    "vet_j = vet.json()\n",
    "vet_df = pd.DataFrame(vet_j['data'])\n",
    "vet_df.rename(columns={0:'Date',1:'Open',2:'Close'}, inplace=True)\n",
    "vet_df.drop(columns = [3,4,5,6], inplace=True)\n",
    "vet_median = vet_df[['Open','Close']].astype(float)\n",
    "vet_median['VET Median'] = vet_median[['Open','Close']].mean(axis=1)\n",
    "vet_median = vet_median['VET Median']\n",
    "vet_df_date = pd.to_datetime(vet_df['Date'], unit='s')\n",
    "vet_date = [vet_df_date, vet_median]\n",
    "vet_result = pd.concat(vet_date, axis=1, join = 'outer')\n",
    "vet_result.set_index('Date', inplace=True)\n",
    "vet_result.to_csv('vet_result.csv')"
   ]
  },
  {
   "cell_type": "code",
   "execution_count": 58,
   "id": "084ffea5",
   "metadata": {},
   "outputs": [
    {
     "ename": "KeyError",
     "evalue": "'data'",
     "output_type": "error",
     "traceback": [
      "\u001b[1;31m---------------------------------------------------------------------------\u001b[0m",
      "\u001b[1;31mKeyError\u001b[0m                                  Traceback (most recent call last)",
      "\u001b[1;32m~\\AppData\\Local\\Temp/ipykernel_16848/3438315344.py\u001b[0m in \u001b[0;36m<module>\u001b[1;34m\u001b[0m\n\u001b[0;32m      1\u001b[0m \u001b[0mxlm\u001b[0m \u001b[1;33m=\u001b[0m \u001b[0mrequests\u001b[0m\u001b[1;33m.\u001b[0m\u001b[0mget\u001b[0m\u001b[1;33m(\u001b[0m\u001b[1;34m'https://api.kucoin.com/api/v1/market/candles?type=8hour&symbol=XLM-USDT&startAt=1620360000&endAt=0'\u001b[0m\u001b[1;33m)\u001b[0m\u001b[1;33m\u001b[0m\u001b[1;33m\u001b[0m\u001b[0m\n\u001b[0;32m      2\u001b[0m \u001b[0mxlm_j\u001b[0m \u001b[1;33m=\u001b[0m \u001b[0mxlm\u001b[0m\u001b[1;33m.\u001b[0m\u001b[0mjson\u001b[0m\u001b[1;33m(\u001b[0m\u001b[1;33m)\u001b[0m\u001b[1;33m\u001b[0m\u001b[1;33m\u001b[0m\u001b[0m\n\u001b[1;32m----> 3\u001b[1;33m \u001b[0mxlm_df\u001b[0m \u001b[1;33m=\u001b[0m \u001b[0mpd\u001b[0m\u001b[1;33m.\u001b[0m\u001b[0mDataFrame\u001b[0m\u001b[1;33m(\u001b[0m\u001b[0mxlm_j\u001b[0m\u001b[1;33m[\u001b[0m\u001b[1;34m'data'\u001b[0m\u001b[1;33m]\u001b[0m\u001b[1;33m)\u001b[0m\u001b[1;33m\u001b[0m\u001b[1;33m\u001b[0m\u001b[0m\n\u001b[0m\u001b[0;32m      4\u001b[0m \u001b[0mxlm_df\u001b[0m\u001b[1;33m.\u001b[0m\u001b[0mrename\u001b[0m\u001b[1;33m(\u001b[0m\u001b[0mcolumns\u001b[0m\u001b[1;33m=\u001b[0m\u001b[1;33m{\u001b[0m\u001b[1;36m0\u001b[0m\u001b[1;33m:\u001b[0m\u001b[1;34m'Date'\u001b[0m\u001b[1;33m,\u001b[0m\u001b[1;36m1\u001b[0m\u001b[1;33m:\u001b[0m\u001b[1;34m'Open'\u001b[0m\u001b[1;33m,\u001b[0m\u001b[1;36m2\u001b[0m\u001b[1;33m:\u001b[0m\u001b[1;34m'Close'\u001b[0m\u001b[1;33m}\u001b[0m\u001b[1;33m,\u001b[0m \u001b[0minplace\u001b[0m\u001b[1;33m=\u001b[0m\u001b[1;32mTrue\u001b[0m\u001b[1;33m)\u001b[0m\u001b[1;33m\u001b[0m\u001b[1;33m\u001b[0m\u001b[0m\n\u001b[0;32m      5\u001b[0m \u001b[0mxlm_df\u001b[0m\u001b[1;33m.\u001b[0m\u001b[0mdrop\u001b[0m\u001b[1;33m(\u001b[0m\u001b[0mcolumns\u001b[0m \u001b[1;33m=\u001b[0m \u001b[1;33m[\u001b[0m\u001b[1;36m3\u001b[0m\u001b[1;33m,\u001b[0m\u001b[1;36m4\u001b[0m\u001b[1;33m,\u001b[0m\u001b[1;36m5\u001b[0m\u001b[1;33m,\u001b[0m\u001b[1;36m6\u001b[0m\u001b[1;33m]\u001b[0m\u001b[1;33m,\u001b[0m \u001b[0minplace\u001b[0m\u001b[1;33m=\u001b[0m\u001b[1;32mTrue\u001b[0m\u001b[1;33m)\u001b[0m\u001b[1;33m\u001b[0m\u001b[1;33m\u001b[0m\u001b[0m\n",
      "\u001b[1;31mKeyError\u001b[0m: 'data'"
     ]
    }
   ],
   "source": [
    "xlm = requests.get('https://api.kucoin.com/api/v1/market/candles?type=8hour&symbol=XLM-USDT&startAt=1620360000&endAt=0')\n",
    "xlm_j = xlm.json()\n",
    "xlm_df = pd.DataFrame(xlm_j['data'])\n",
    "xlm_df.rename(columns={0:'Date',1:'Open',2:'Close'}, inplace=True)\n",
    "xlm_df.drop(columns = [3,4,5,6], inplace=True)\n",
    "xlm_median = xlm_df[['Open','Close']].astype(float)\n",
    "xlm_median['XLM Median'] = xlm_median[['Open','Close']].mean(axis=1)\n",
    "xlm_median = xlm_median['XLM Median']\n",
    "xlm_df_date = pd.to_datetime(xlm_df['Date'], unit='s')\n",
    "xlm_date = [xlm_df_date, xlm_median]\n",
    "xlm_result = pd.concat(xlm_date, axis=1, join = 'outer')\n",
    "xlm_result.set_index('Date', inplace=True)\n",
    "xlm_result.to_csv('xlm_result.csv')"
   ]
  },
  {
   "cell_type": "code",
   "execution_count": null,
   "id": "f2518682",
   "metadata": {},
   "outputs": [],
   "source": [
    "index_tokens = pd.concat([btc_result, dot_result, eth_result, ada_result, doge_result, ltc_result, bnb_result, \n",
    "                          xrp_result, uni_result, link_result, usdt_result, sol_result,\n",
    "                          luna_result, avax_result,algo_result,bch_result,matic_result,vet_result,xlm_result], axis=1, join='outer')\n",
    "index_tokens"
   ]
  },
  {
   "cell_type": "raw",
   "id": "a79e50b6",
   "metadata": {},
   "source": [
    "url = 'https://pro-api.coinmarketcap.com/v1/cryptocurrency/listings/latest'\n",
    "parameters = {\n",
    "  'start':'1',\n",
    "  'limit':'1',\n",
    "  'convert':'USD'\n",
    "}\n",
    "headers = {\n",
    "  'Accepts': 'application/json',\n",
    "  'X-CMC_PRO_API_KEY': cmc_key,\n",
    "}\n",
    "\n",
    "session = Session()\n",
    "session.headers.update(headers)\n",
    "\n",
    "try:\n",
    "  response = session.get(url, params=parameters)\n",
    "  data = json.loads(response.text)\n",
    "except (ConnectionError, Timeout, TooManyRedirects) as e:\n",
    "  print(e)\n",
    "\n",
    "data['data']"
   ]
  },
  {
   "cell_type": "code",
   "execution_count": 59,
   "id": "4a248c08",
   "metadata": {},
   "outputs": [
    {
     "name": "stderr",
     "output_type": "stream",
     "text": [
      "C:\\ProgramData\\Anaconda3\\envs\\pyvizenv\\lib\\site-packages\\pandas\\core\\frame.py:5047: SettingWithCopyWarning: \n",
      "A value is trying to be set on a copy of a slice from a DataFrame\n",
      "\n",
      "See the caveats in the documentation: https://pandas.pydata.org/pandas-docs/stable/user_guide/indexing.html#returning-a-view-versus-a-copy\n",
      "  errors=errors,\n"
     ]
    }
   ],
   "source": [
    "markdom_csv = Path('CRYPTOCAP MARKET DOMINANCE, 240.csv')\n",
    "markdom_df_toomanycolumns= pd.read_csv(markdom_csv)\n",
    "markdom_df = markdom_df_toomanycolumns[['time','BTC.D, CRYPTOCAP: Close','close','ETH.D, CRYPTOCAP: Close','ADA.D, CRYPTOCAP: Close',\n",
    "                                       'DOGE.D, CRYPTOCAP: Close','LTC.D, CRYPTOCAP: Close','BNB.D, CRYPTOCAP: Close','XRP.D, CRYPTOCAP: Close',\n",
    "                                       'UNI.D, CRYPTOCAP: Close','LINK.D, CRYPTOCAP: Close','USDT.D, CRYPTOCAP: Close','SOL.D, CRYPTOCAP: Close',\n",
    "                                       'LUNA.D, CRYPTOCAP: Close','AVAX.D, CRYPTOCAP: Close','ALGO.D, CRYPTOCAP: Close','BCH.D, CRYPTOCAP: Close',\n",
    "                                       'MATIC.D, CRYPTOCAP: Close','VET.D, CRYPTOCAP: Close','XLM.D, CRYPTOCAP: Close']]\n",
    "\n",
    "markdom_df.rename(columns={'time':'Date',\n",
    "                           'BTC.D, CRYPTOCAP: Close':'BTC',\n",
    "                           'close':'DOT',\n",
    "                           'ETH.D, CRYPTOCAP: Close':'ETH',\n",
    "                           'ADA.D, CRYPTOCAP: Close':'ADA',\n",
    "                           'DOGE.D, CRYPTOCAP: Close':'DOGE',\n",
    "                           'LTC.D, CRYPTOCAP: Close':'LTC',\n",
    "                           'BNB.D, CRYPTOCAP: Close':'BNB',\n",
    "                           'XRP.D, CRYPTOCAP: Close':'XRP',\n",
    "                           'UNI.D, CRYPTOCAP: Close':'UNI',\n",
    "                           'LINK.D, CRYPTOCAP: Close':'LINK',\n",
    "                           'USDT.D, CRYPTOCAP: Close':'USDT',\n",
    "                           'SOL.D, CRYPTOCAP: Close':'SOL',\n",
    "                           'LUNA.D, CRYPTOCAP: Close':'LUNA',\n",
    "                           'AVAX.D, CRYPTOCAP: Close':'AVAX',\n",
    "                           'ALGO.D, CRYPTOCAP: Close':'ALGO',\n",
    "                           'BCH.D, CRYPTOCAP: Close':'BCH',\n",
    "                           'MATIC.D, CRYPTOCAP: Close':'MATIC',\n",
    "                           'VET.D, CRYPTOCAP: Close':'VET',\n",
    "                           'XLM.D, CRYPTOCAP: Close':'XLM',\n",
    "                          }, inplace=True)"
   ]
  },
  {
   "cell_type": "code",
   "execution_count": 60,
   "id": "893d83cf",
   "metadata": {},
   "outputs": [
    {
     "data": {
      "text/html": [
       "<div>\n",
       "<style scoped>\n",
       "    .dataframe tbody tr th:only-of-type {\n",
       "        vertical-align: middle;\n",
       "    }\n",
       "\n",
       "    .dataframe tbody tr th {\n",
       "        vertical-align: top;\n",
       "    }\n",
       "\n",
       "    .dataframe thead th {\n",
       "        text-align: right;\n",
       "    }\n",
       "</style>\n",
       "<table border=\"1\" class=\"dataframe\">\n",
       "  <thead>\n",
       "    <tr style=\"text-align: right;\">\n",
       "      <th></th>\n",
       "      <th>BTC</th>\n",
       "      <th>DOT</th>\n",
       "      <th>ETH</th>\n",
       "      <th>ADA</th>\n",
       "      <th>DOGE</th>\n",
       "      <th>LTC</th>\n",
       "      <th>BNB</th>\n",
       "      <th>XRP</th>\n",
       "      <th>UNI</th>\n",
       "      <th>LINK</th>\n",
       "      <th>USDT</th>\n",
       "      <th>SOL</th>\n",
       "      <th>LUNA</th>\n",
       "      <th>AVAX</th>\n",
       "      <th>ALGO</th>\n",
       "      <th>BCH</th>\n",
       "      <th>MATIC</th>\n",
       "      <th>VET</th>\n",
       "      <th>XLM</th>\n",
       "    </tr>\n",
       "    <tr>\n",
       "      <th>Date</th>\n",
       "      <th></th>\n",
       "      <th></th>\n",
       "      <th></th>\n",
       "      <th></th>\n",
       "      <th></th>\n",
       "      <th></th>\n",
       "      <th></th>\n",
       "      <th></th>\n",
       "      <th></th>\n",
       "      <th></th>\n",
       "      <th></th>\n",
       "      <th></th>\n",
       "      <th></th>\n",
       "      <th></th>\n",
       "      <th></th>\n",
       "      <th></th>\n",
       "      <th></th>\n",
       "      <th></th>\n",
       "      <th></th>\n",
       "    </tr>\n",
       "  </thead>\n",
       "  <tbody>\n",
       "    <tr>\n",
       "      <th>2021-05-07 08:00:00</th>\n",
       "      <td>0.453093</td>\n",
       "      <td>0.016561</td>\n",
       "      <td>0.171020</td>\n",
       "      <td>0.023159</td>\n",
       "      <td>0.034718</td>\n",
       "      <td>0.010231</td>\n",
       "      <td>0.041137</td>\n",
       "      <td>0.030872</td>\n",
       "      <td>0.009048</td>\n",
       "      <td>0.008488</td>\n",
       "      <td>0.022976</td>\n",
       "      <td>0.004993</td>\n",
       "      <td>0.002753</td>\n",
       "      <td>0.002327</td>\n",
       "      <td>0.002108</td>\n",
       "      <td>0.011360</td>\n",
       "      <td>0.001710</td>\n",
       "      <td>0.006840</td>\n",
       "      <td>0.006578</td>\n",
       "    </tr>\n",
       "    <tr>\n",
       "      <th>2021-05-07 16:00:00</th>\n",
       "      <td>0.457740</td>\n",
       "      <td>0.016229</td>\n",
       "      <td>0.172931</td>\n",
       "      <td>0.022388</td>\n",
       "      <td>0.034927</td>\n",
       "      <td>0.009797</td>\n",
       "      <td>0.040841</td>\n",
       "      <td>0.030735</td>\n",
       "      <td>0.008930</td>\n",
       "      <td>0.008875</td>\n",
       "      <td>0.023238</td>\n",
       "      <td>0.005070</td>\n",
       "      <td>0.002766</td>\n",
       "      <td>0.002177</td>\n",
       "      <td>0.001992</td>\n",
       "      <td>0.010707</td>\n",
       "      <td>0.001674</td>\n",
       "      <td>0.006423</td>\n",
       "      <td>0.006259</td>\n",
       "    </tr>\n",
       "    <tr>\n",
       "      <th>2021-05-08 00:00:00</th>\n",
       "      <td>0.460146</td>\n",
       "      <td>0.015848</td>\n",
       "      <td>0.173225</td>\n",
       "      <td>0.022037</td>\n",
       "      <td>0.039052</td>\n",
       "      <td>0.009972</td>\n",
       "      <td>0.041107</td>\n",
       "      <td>0.030807</td>\n",
       "      <td>0.008804</td>\n",
       "      <td>0.008720</td>\n",
       "      <td>0.023159</td>\n",
       "      <td>0.005023</td>\n",
       "      <td>0.002722</td>\n",
       "      <td>0.002128</td>\n",
       "      <td>0.002029</td>\n",
       "      <td>0.011271</td>\n",
       "      <td>0.001665</td>\n",
       "      <td>0.006282</td>\n",
       "      <td>0.006188</td>\n",
       "    </tr>\n",
       "    <tr>\n",
       "      <th>2021-05-08 08:00:00</th>\n",
       "      <td>0.463315</td>\n",
       "      <td>0.015730</td>\n",
       "      <td>0.173430</td>\n",
       "      <td>0.021402</td>\n",
       "      <td>0.039042</td>\n",
       "      <td>0.009656</td>\n",
       "      <td>0.040977</td>\n",
       "      <td>0.030337</td>\n",
       "      <td>0.008794</td>\n",
       "      <td>0.008446</td>\n",
       "      <td>0.023093</td>\n",
       "      <td>0.005107</td>\n",
       "      <td>0.002764</td>\n",
       "      <td>0.002092</td>\n",
       "      <td>0.001963</td>\n",
       "      <td>0.011008</td>\n",
       "      <td>0.001649</td>\n",
       "      <td>0.006342</td>\n",
       "      <td>0.006057</td>\n",
       "    </tr>\n",
       "    <tr>\n",
       "      <th>2021-05-08 16:00:00</th>\n",
       "      <td>0.459326</td>\n",
       "      <td>0.015422</td>\n",
       "      <td>0.183547</td>\n",
       "      <td>0.021508</td>\n",
       "      <td>0.036429</td>\n",
       "      <td>0.009734</td>\n",
       "      <td>0.041758</td>\n",
       "      <td>0.029814</td>\n",
       "      <td>0.008648</td>\n",
       "      <td>0.008325</td>\n",
       "      <td>0.022735</td>\n",
       "      <td>0.005093</td>\n",
       "      <td>0.002716</td>\n",
       "      <td>0.002108</td>\n",
       "      <td>0.001958</td>\n",
       "      <td>0.010759</td>\n",
       "      <td>0.001699</td>\n",
       "      <td>0.006050</td>\n",
       "      <td>0.005949</td>\n",
       "    </tr>\n",
       "    <tr>\n",
       "      <th>...</th>\n",
       "      <td>...</td>\n",
       "      <td>...</td>\n",
       "      <td>...</td>\n",
       "      <td>...</td>\n",
       "      <td>...</td>\n",
       "      <td>...</td>\n",
       "      <td>...</td>\n",
       "      <td>...</td>\n",
       "      <td>...</td>\n",
       "      <td>...</td>\n",
       "      <td>...</td>\n",
       "      <td>...</td>\n",
       "      <td>...</td>\n",
       "      <td>...</td>\n",
       "      <td>...</td>\n",
       "      <td>...</td>\n",
       "      <td>...</td>\n",
       "      <td>...</td>\n",
       "      <td>...</td>\n",
       "    </tr>\n",
       "    <tr>\n",
       "      <th>2021-11-11 08:00:00</th>\n",
       "      <td>0.434170</td>\n",
       "      <td>0.017171</td>\n",
       "      <td>0.196826</td>\n",
       "      <td>0.024968</td>\n",
       "      <td>0.012154</td>\n",
       "      <td>0.006509</td>\n",
       "      <td>0.037055</td>\n",
       "      <td>0.020449</td>\n",
       "      <td>0.005700</td>\n",
       "      <td>0.005961</td>\n",
       "      <td>0.026018</td>\n",
       "      <td>0.025602</td>\n",
       "      <td>0.008771</td>\n",
       "      <td>0.006924</td>\n",
       "      <td>0.004473</td>\n",
       "      <td>0.004519</td>\n",
       "      <td>0.004231</td>\n",
       "      <td>0.003788</td>\n",
       "      <td>0.003390</td>\n",
       "    </tr>\n",
       "    <tr>\n",
       "      <th>2021-11-11 16:00:00</th>\n",
       "      <td>0.431580</td>\n",
       "      <td>0.016873</td>\n",
       "      <td>0.197652</td>\n",
       "      <td>0.024455</td>\n",
       "      <td>0.012233</td>\n",
       "      <td>0.006388</td>\n",
       "      <td>0.036853</td>\n",
       "      <td>0.020112</td>\n",
       "      <td>0.005668</td>\n",
       "      <td>0.005768</td>\n",
       "      <td>0.025912</td>\n",
       "      <td>0.025273</td>\n",
       "      <td>0.008696</td>\n",
       "      <td>0.006849</td>\n",
       "      <td>0.004410</td>\n",
       "      <td>0.004477</td>\n",
       "      <td>0.004254</td>\n",
       "      <td>0.003751</td>\n",
       "      <td>0.003427</td>\n",
       "    </tr>\n",
       "    <tr>\n",
       "      <th>2021-11-12 00:00:00</th>\n",
       "      <td>0.431323</td>\n",
       "      <td>0.016357</td>\n",
       "      <td>0.199010</td>\n",
       "      <td>0.024418</td>\n",
       "      <td>0.012376</td>\n",
       "      <td>0.006699</td>\n",
       "      <td>0.037224</td>\n",
       "      <td>0.020169</td>\n",
       "      <td>0.005639</td>\n",
       "      <td>0.005664</td>\n",
       "      <td>0.026015</td>\n",
       "      <td>0.024777</td>\n",
       "      <td>0.008458</td>\n",
       "      <td>0.006949</td>\n",
       "      <td>0.004813</td>\n",
       "      <td>0.004504</td>\n",
       "      <td>0.004267</td>\n",
       "      <td>0.003705</td>\n",
       "      <td>0.003326</td>\n",
       "    </tr>\n",
       "    <tr>\n",
       "      <th>2021-11-12 08:00:00</th>\n",
       "      <td>0.434888</td>\n",
       "      <td>0.016212</td>\n",
       "      <td>0.196774</td>\n",
       "      <td>0.023930</td>\n",
       "      <td>0.012144</td>\n",
       "      <td>0.006438</td>\n",
       "      <td>0.037263</td>\n",
       "      <td>0.019850</td>\n",
       "      <td>0.005420</td>\n",
       "      <td>0.005556</td>\n",
       "      <td>0.026677</td>\n",
       "      <td>0.024563</td>\n",
       "      <td>0.007030</td>\n",
       "      <td>0.006618</td>\n",
       "      <td>0.004724</td>\n",
       "      <td>0.004453</td>\n",
       "      <td>0.004089</td>\n",
       "      <td>0.003646</td>\n",
       "      <td>0.003261</td>\n",
       "    </tr>\n",
       "    <tr>\n",
       "      <th>2021-11-12 16:00:00</th>\n",
       "      <td>0.432576</td>\n",
       "      <td>0.016133</td>\n",
       "      <td>0.197250</td>\n",
       "      <td>0.024382</td>\n",
       "      <td>0.012110</td>\n",
       "      <td>0.006207</td>\n",
       "      <td>0.037168</td>\n",
       "      <td>0.019989</td>\n",
       "      <td>0.005517</td>\n",
       "      <td>0.005690</td>\n",
       "      <td>0.026519</td>\n",
       "      <td>0.024876</td>\n",
       "      <td>0.008492</td>\n",
       "      <td>0.006589</td>\n",
       "      <td>0.005037</td>\n",
       "      <td>0.004492</td>\n",
       "      <td>0.004199</td>\n",
       "      <td>0.003642</td>\n",
       "      <td>0.003296</td>\n",
       "    </tr>\n",
       "  </tbody>\n",
       "</table>\n",
       "<p>569 rows × 19 columns</p>\n",
       "</div>"
      ],
      "text/plain": [
       "                          BTC       DOT       ETH       ADA      DOGE  \\\n",
       "Date                                                                    \n",
       "2021-05-07 08:00:00  0.453093  0.016561  0.171020  0.023159  0.034718   \n",
       "2021-05-07 16:00:00  0.457740  0.016229  0.172931  0.022388  0.034927   \n",
       "2021-05-08 00:00:00  0.460146  0.015848  0.173225  0.022037  0.039052   \n",
       "2021-05-08 08:00:00  0.463315  0.015730  0.173430  0.021402  0.039042   \n",
       "2021-05-08 16:00:00  0.459326  0.015422  0.183547  0.021508  0.036429   \n",
       "...                       ...       ...       ...       ...       ...   \n",
       "2021-11-11 08:00:00  0.434170  0.017171  0.196826  0.024968  0.012154   \n",
       "2021-11-11 16:00:00  0.431580  0.016873  0.197652  0.024455  0.012233   \n",
       "2021-11-12 00:00:00  0.431323  0.016357  0.199010  0.024418  0.012376   \n",
       "2021-11-12 08:00:00  0.434888  0.016212  0.196774  0.023930  0.012144   \n",
       "2021-11-12 16:00:00  0.432576  0.016133  0.197250  0.024382  0.012110   \n",
       "\n",
       "                          LTC       BNB       XRP       UNI      LINK  \\\n",
       "Date                                                                    \n",
       "2021-05-07 08:00:00  0.010231  0.041137  0.030872  0.009048  0.008488   \n",
       "2021-05-07 16:00:00  0.009797  0.040841  0.030735  0.008930  0.008875   \n",
       "2021-05-08 00:00:00  0.009972  0.041107  0.030807  0.008804  0.008720   \n",
       "2021-05-08 08:00:00  0.009656  0.040977  0.030337  0.008794  0.008446   \n",
       "2021-05-08 16:00:00  0.009734  0.041758  0.029814  0.008648  0.008325   \n",
       "...                       ...       ...       ...       ...       ...   \n",
       "2021-11-11 08:00:00  0.006509  0.037055  0.020449  0.005700  0.005961   \n",
       "2021-11-11 16:00:00  0.006388  0.036853  0.020112  0.005668  0.005768   \n",
       "2021-11-12 00:00:00  0.006699  0.037224  0.020169  0.005639  0.005664   \n",
       "2021-11-12 08:00:00  0.006438  0.037263  0.019850  0.005420  0.005556   \n",
       "2021-11-12 16:00:00  0.006207  0.037168  0.019989  0.005517  0.005690   \n",
       "\n",
       "                         USDT       SOL      LUNA      AVAX      ALGO  \\\n",
       "Date                                                                    \n",
       "2021-05-07 08:00:00  0.022976  0.004993  0.002753  0.002327  0.002108   \n",
       "2021-05-07 16:00:00  0.023238  0.005070  0.002766  0.002177  0.001992   \n",
       "2021-05-08 00:00:00  0.023159  0.005023  0.002722  0.002128  0.002029   \n",
       "2021-05-08 08:00:00  0.023093  0.005107  0.002764  0.002092  0.001963   \n",
       "2021-05-08 16:00:00  0.022735  0.005093  0.002716  0.002108  0.001958   \n",
       "...                       ...       ...       ...       ...       ...   \n",
       "2021-11-11 08:00:00  0.026018  0.025602  0.008771  0.006924  0.004473   \n",
       "2021-11-11 16:00:00  0.025912  0.025273  0.008696  0.006849  0.004410   \n",
       "2021-11-12 00:00:00  0.026015  0.024777  0.008458  0.006949  0.004813   \n",
       "2021-11-12 08:00:00  0.026677  0.024563  0.007030  0.006618  0.004724   \n",
       "2021-11-12 16:00:00  0.026519  0.024876  0.008492  0.006589  0.005037   \n",
       "\n",
       "                          BCH     MATIC       VET       XLM  \n",
       "Date                                                         \n",
       "2021-05-07 08:00:00  0.011360  0.001710  0.006840  0.006578  \n",
       "2021-05-07 16:00:00  0.010707  0.001674  0.006423  0.006259  \n",
       "2021-05-08 00:00:00  0.011271  0.001665  0.006282  0.006188  \n",
       "2021-05-08 08:00:00  0.011008  0.001649  0.006342  0.006057  \n",
       "2021-05-08 16:00:00  0.010759  0.001699  0.006050  0.005949  \n",
       "...                       ...       ...       ...       ...  \n",
       "2021-11-11 08:00:00  0.004519  0.004231  0.003788  0.003390  \n",
       "2021-11-11 16:00:00  0.004477  0.004254  0.003751  0.003427  \n",
       "2021-11-12 00:00:00  0.004504  0.004267  0.003705  0.003326  \n",
       "2021-11-12 08:00:00  0.004453  0.004089  0.003646  0.003261  \n",
       "2021-11-12 16:00:00  0.004492  0.004199  0.003642  0.003296  \n",
       "\n",
       "[569 rows x 19 columns]"
      ]
     },
     "execution_count": 60,
     "metadata": {},
     "output_type": "execute_result"
    }
   ],
   "source": [
    "markdom_date = pd.to_datetime(markdom_df['Date'], unit='s')\n",
    "markdom_drop = markdom_df.drop(columns = 'Date')\n",
    "markdom_cat = [markdom_date,markdom_drop]\n",
    "markdom_res = pd.concat(markdom_cat, axis=1, join = 'outer')\n",
    "markdom_res.set_index('Date', inplace=True)\n",
    "markdom_resu = markdom_res.iloc[::2]\n",
    "markdom_result = markdom_resu/100\n",
    "markdom_result"
   ]
  },
  {
   "cell_type": "code",
   "execution_count": 61,
   "id": "977cfd0b",
   "metadata": {},
   "outputs": [
    {
     "data": {
      "image/png": "[encoded data removed]",
      "text/plain": [
       "<Figure size 432x288 with 1 Axes>"
      ]
     },
     "metadata": {
      "needs_background": "light"
     },
     "output_type": "display_data"
    }
   ],
   "source": [
    "index_results1 = pd.DataFrame(index_tokens.values*markdom_result.values, columns=markdom_result.columns, index=index_tokens.index)\n",
    "index_results1['SUM'] = (index_results1['BTC']+index_results1['DOT']+index_results1['ETH']+index_results1['ADA']+index_results1['DOGE']+\n",
    "                         index_results1['LINK']+index_results1['UNI']+index_results1['XRP']+index_results1['BNB']+index_results1['LTC']+\n",
    "                         index_results1['USDT']+index_results1['SOL']+index_results1['LUNA']+index_results1['AVAX']+index_results1['ALGO']+\n",
    "                         index_results1['BCH']+index_results1['MATIC']+index_results1['VET']+index_results1['XLM'])\n",
    "ax = index_results1['SUM'].plot()\n"
   ]
  },
  {
   "cell_type": "code",
   "execution_count": 62,
   "id": "a9285aa0",
   "metadata": {},
   "outputs": [],
   "source": [
    "btc_weight = 0.50749\n",
    "dot_weight = 0.01924\n",
    "eth_weight = 0.23604\n",
    "ada_weight= 0.02868\n",
    "doge_weight = 0.01440\n",
    "ltc_weight = 0.00779\n",
    "bnb_weight = 0.04367\n",
    "xrp_weight = 0.02372\n",
    "uni_weight = 0.00661\n",
    "link_weight = 0.00661\n",
    "usdt_weight = 0.03069\n",
    "sol_weight = 0.02927\n",
    "luna_weight = 0.00968\n",
    "avax_weight = 0.00803\n",
    "algo_weight = 0.00590\n",
    "bch_weight = 0.00531\n",
    "matic_weight = 0.00496\n",
    "vet_weight = 0.00437\n",
    "xlm_weight = 0.00389"
   ]
  },
  {
   "cell_type": "code",
   "execution_count": 63,
   "id": "1d3e5660",
   "metadata": {},
   "outputs": [],
   "source": [
    "index_returns = (btc_weight*index_tokens['BTC Median']+dot_weight*index_tokens['DOT Median']+\n",
    "                 eth_weight*index_tokens['ETH Median']+ada_weight*index_tokens['ADA Median']+\n",
    "                 doge_weight*index_tokens['DOGE Median']+ltc_weight*index_tokens['LTC Median']+\n",
    "                 bnb_weight*index_tokens['BNB Median']+xrp_weight*index_tokens['XRP Median']+\n",
    "                 uni_weight*index_tokens['UNI Median']+link_weight*index_tokens['LINK Median']+\n",
    "                 usdt_weight*index_tokens['USDT Median']+sol_weight*index_tokens['SOL Median']+\n",
    "                 luna_weight*index_tokens['LUNA Median']+avax_weight*index_tokens['AVAX Median']+\n",
    "                 algo_weight*index_tokens['ALGO Median']+bch_weight*index_tokens['BCH Median']+\n",
    "                 matic_weight*index_tokens['MATIC Median']+vet_weight*index_tokens['VET Median']+\n",
    "                 xlm_weight*index_tokens['XLM Median'])"
   ]
  },
  {
   "cell_type": "code",
   "execution_count": 64,
   "id": "5877e6b1",
   "metadata": {},
   "outputs": [
    {
     "data": {
      "text/plain": [
       "<AxesSubplot:xlabel='Date'>"
      ]
     },
     "execution_count": 64,
     "metadata": {},
     "output_type": "execute_result"
    },
    {
     "data": {
      "image/png": "[encoded data removed]",
      "text/plain": [
       "<Figure size 432x288 with 1 Axes>"
      ]
     },
     "metadata": {
      "needs_background": "light"
     },
     "output_type": "display_data"
    }
   ],
   "source": [
    "index_returns.plot(kind='line')"
   ]
  },
  {
   "cell_type": "code",
   "execution_count": 65,
   "id": "ff6b4976",
   "metadata": {},
   "outputs": [
    {
     "data": {
      "image/png": "[encoded data removed]",
      "text/plain": [
       "<Figure size 432x288 with 1 Axes>"
      ]
     },
     "metadata": {
      "needs_background": "light"
     },
     "output_type": "display_data"
    }
   ],
   "source": [
    "index_pct = index_returns.pct_change().dropna()\n",
    "index_pct.plot();"
   ]
  },
  {
   "cell_type": "markdown",
   "id": "52399569",
   "metadata": {},
   "source": [
    "***_MEME/GAMING TOKENS_***"
   ]
  },
  {
   "cell_type": "code",
   "execution_count": null,
   "id": "c09dfb41",
   "metadata": {},
   "outputs": [],
   "source": [
    "doge = requests.get('https://api.kucoin.com/api/v1/market/candles?type=8hour&symbol=DOGE-USDT&startAt=1620360000&endAt=0')\n",
    "doge_j = doge.json()\n",
    "doge_j"
   ]
  },
  {
   "cell_type": "code",
   "execution_count": null,
   "id": "5437932b",
   "metadata": {},
   "outputs": [],
   "source": [
    "elon = requests.get('https://api.kucoin.com/api/v1/market/candles?type=8hour&symbol=ELON-USDT&startAt=1620360000&endAt=0')\n",
    "elon_j = elon.json()\n",
    "elon_j"
   ]
  },
  {
   "cell_type": "markdown",
   "id": "3d5c0d0a",
   "metadata": {},
   "source": [
    "***_DEFI TOKENS_***"
   ]
  },
  {
   "cell_type": "code",
   "execution_count": null,
   "id": "b828dc39",
   "metadata": {},
   "outputs": [],
   "source": [
    "uni = requests.get('https://api.kucoin.com/api/v1/market/candles?type=8hour&symbol=UNI-USDT&startAt=1620360000&endAt=0')\n",
    "uni_j = uni.json()\n",
    "uni_j"
   ]
  },
  {
   "cell_type": "code",
   "execution_count": null,
   "id": "c0351c15",
   "metadata": {},
   "outputs": [],
   "source": [
    "luna = requests.get('https://api.kucoin.com/api/v1/market/candles?type=8hour&symbol=LUNA-USDT&startAt=1620360000&endAt=0')\n",
    "luna_j = luna.json()\n",
    "luna_j"
   ]
  },
  {
   "cell_type": "code",
   "execution_count": null,
   "id": "7b2f4fb9",
   "metadata": {},
   "outputs": [],
   "source": [
    "avax = requests.get('https://api.kucoin.com/api/v1/market/candles?type=8hour&symbol=AVAX-USDT&startAt=1620360000&endAt=0')\n",
    "avax_j = avax.json()\n",
    "avax_j"
   ]
  },
  {
   "cell_type": "markdown",
   "id": "fe0aae01",
   "metadata": {},
   "source": [
    "***_STORAGE TOKENS_***"
   ]
  },
  {
   "cell_type": "code",
   "execution_count": null,
   "id": "e1ace1b3",
   "metadata": {},
   "outputs": [],
   "source": [
    "fil = requests.get('https://api.kucoin.com/api/v1/market/candles?type=8hour&symbol=FIL-USDT&startAt=1620360000')\n",
    "fil_j = fil.json()\n",
    "fil_j"
   ]
  },
  {
   "cell_type": "code",
   "execution_count": null,
   "id": "8b2dcac7",
   "metadata": {},
   "outputs": [],
   "source": [
    "btt = requests.get('https://api.kucoin.com/api/v1/market/candles?type=8hour&symbol=BTT-USDT&startAt=1620360000')\n",
    "btt_j = btt.json()\n",
    "btt_j"
   ]
  },
  {
   "cell_type": "code",
   "execution_count": null,
   "id": "1774983b",
   "metadata": {
    "jupyter": {
     "source_hidden": true
    }
   },
   "outputs": [],
   "source": [
    "storj = requests.get('https://api.kucoin.com/api/v1/market/candles?type=8hour&symbol=STORJ-USDT&startAt=1620360000')\n",
    "storj_j = storj.json()\n",
    "storj_j"
   ]
  },
  {
   "cell_type": "code",
   "execution_count": null,
   "id": "f2a54475",
   "metadata": {},
   "outputs": [],
   "source": []
  },
  {
   "cell_type": "code",
   "execution_count": null,
   "id": "175b92d2",
   "metadata": {},
   "outputs": [],
   "source": []
  }
 ],
 "metadata": {
  "kernelspec": {
   "display_name": "Python [conda env:pyvizenv] *",
   "language": "python",
   "name": "conda-env-pyvizenv-py"
  },
  "language_info": {
   "codemirror_mode": {
    "name": "ipython",
    "version": 3
   },
   "file_extension": ".py",
   "mimetype": "text/x-python",
   "name": "python",
   "nbconvert_exporter": "python",
   "pygments_lexer": "ipython3",
   "version": "3.7.10"
  }
 },
 "nbformat": 4,
 "nbformat_minor": 5
}
