{
 "cells": [
  {
   "cell_type": "code",
   "execution_count": 11,
   "id": "6413fcdf",
   "metadata": {},
   "outputs": [],
   "source": [
    "from kucoin.client import Client\n",
    "from kucoin.asyncio import KucoinSocketManager\n",
    "import os\n",
    "import numpy as np\n",
    "import pandas as pd\n",
    "import matplotlib.pyplot as plt\n",
    "import mplfinance as mpf\n",
    "import asyncio\n",
    "import plotly.express as px\n",
    "from pathlib import Path\n",
    "import time as t\n",
    "import threading\n",
    "import requests\n",
    "from requests import Request, Session\n",
    "import datetime\n",
    "from requests.exceptions import ConnectionError, Timeout, TooManyRedirects\n",
    "import json\n",
    "\n",
    "%matplotlib inline"
   ]
  },
  {
   "cell_type": "code",
   "execution_count": 12,
   "id": "fbcfc321",
   "metadata": {},
   "outputs": [
    {
     "data": {
      "text/plain": [
       "True"
      ]
     },
     "execution_count": 12,
     "metadata": {},
     "output_type": "execute_result"
    }
   ],
   "source": [
    "from dotenv import load_dotenv\n",
    "load_dotenv()"
   ]
  },
  {
   "cell_type": "code",
   "execution_count": 13,
   "id": "7840c524",
   "metadata": {},
   "outputs": [
    {
     "data": {
      "text/plain": [
       "<kucoin.client.Client at 0x2079ba23b08>"
      ]
     },
     "execution_count": 13,
     "metadata": {},
     "output_type": "execute_result"
    }
   ],
   "source": [
    "api_key = os.getenv(\"KUCOIN_API_KEY\")\n",
    "secret_key = os.getenv(\"KUCOIN_SECRET_KEY\")\n",
    "passphrase = os.getenv(\"KUCOIN_PASSPHRASE\")\n",
    "cmc_key = os.getenv('CMC_KEY')\n",
    "client = Client(api_key,secret_key,passphrase)\n",
    "client"
   ]
  },
  {
   "cell_type": "code",
   "execution_count": 14,
   "id": "b29abdff",
   "metadata": {},
   "outputs": [],
   "source": [
    "accounts = client.get_accounts()\n",
    "dfkcs = pd.DataFrame(accounts)\n",
    "dfkcs2 = dfkcs.groupby('currency').sum()\n",
    "dfkcs2.to_csv('dfkcs2.csv')"
   ]
  },
  {
   "cell_type": "raw",
   "id": "69da2790",
   "metadata": {
    "jupyter": {
     "outputs_hidden": true
    }
   },
   "source": [
    "currencies = client.get_currencies()\n",
    "currencies"
   ]
  },
  {
   "cell_type": "markdown",
   "id": "a6624971",
   "metadata": {
    "jupyter": {
     "outputs_hidden": true
    }
   },
   "source": [
    "***_COIN MARKET CAP DATA_***"
   ]
  },
  {
   "cell_type": "raw",
   "id": "e80f2a64",
   "metadata": {
    "jupyter": {
     "outputs_hidden": true
    }
   },
   "source": [
    "cmc = requests.get('')\n",
    "cmc_j= cmc.json()\n",
    "cmc_j"
   ]
  },
  {
   "cell_type": "code",
   "execution_count": 17,
   "id": "8feafdab",
   "metadata": {},
   "outputs": [
    {
     "name": "stdout",
     "output_type": "stream",
     "text": [
      "{'status': {'timestamp': '2021-11-10T20:46:26.237Z', 'error_code': 0, 'error_message': None, 'elapsed': 15, 'credit_count': 1, 'notice': None}, 'data': {'active_cryptocurrencies': 7278, 'total_cryptocurrencies': 13967, 'active_market_pairs': 48173, 'active_exchanges': 430, 'total_exchanges': 1525, 'eth_dominance': 19.249919424703, 'btc_dominance': 43.686491481939, 'eth_dominance_yesterday': 19.34582831, 'btc_dominance_yesterday': 43.527431, 'eth_dominance_24h_percentage_change': -0.095908885297, 'btc_dominance_24h_percentage_change': 0.159060481939, 'defi_volume_24h': 24457386238.4281, 'defi_volume_24h_reported': 24457386238.4281, 'defi_market_cap': 172124302097.12164, 'defi_24h_percentage_change': 8.873333836972, 'stablecoin_volume_24h': 110910930368.5211, 'stablecoin_volume_24h_reported': 110910930368.5211, 'stablecoin_market_cap': 135783176361.29036, 'stablecoin_24h_percentage_change': 2.149766895152, 'derivatives_volume_24h': 228609446155.93042, 'derivatives_volume_24h_reported': 228609446155.93042, 'derivatives_24h_percentage_change': 6.292094717862, 'quote': {'USD': {'total_market_cap': 2867968755179.7188, 'total_volume_24h': 144945428408.32, 'total_volume_24h_reported': 144945428408.32, 'altcoin_volume_24h': 104060939794.98068, 'altcoin_volume_24h_reported': 104060939794.98068, 'altcoin_market_cap': 1615053829243.4724, 'defi_volume_24h': 24457386238.4281, 'defi_volume_24h_reported': 24457386238.4281, 'defi_24h_percentage_change': 8.873333836972, 'defi_market_cap': 172124302097.12164, 'stablecoin_volume_24h': 110910930368.5211, 'stablecoin_volume_24h_reported': 110910930368.5211, 'stablecoin_24h_percentage_change': 2.149766895152, 'stablecoin_market_cap': 135783176361.29036, 'derivatives_volume_24h': 228609446155.93042, 'derivatives_volume_24h_reported': 228609446155.93042, 'derivatives_24h_percentage_change': 6.292094717862, 'last_updated': '2021-11-10T20:45:10.999Z', 'total_market_cap_yesterday': 2916840189368.1377, 'total_volume_24h_yesterday': 143071251148.44, 'total_market_cap_yesterday_percentage_change': -1.675492348417123, 'total_volume_24h_yesterday_percentage_change': 1.3099607676845437}}, 'last_updated': '2021-11-10T20:45:10.999Z'}}\n"
     ]
    }
   ],
   "source": [
    "url = 'https://pro-api.coinmarketcap.com/v1/global-metrics/quotes/latest'\n",
    "parameters = {\n",
    "\n",
    "}\n",
    "headers = {\n",
    "  'Accepts': 'application/json',\n",
    "  'X-CMC_PRO_API_KEY': cmc_key,\n",
    "}\n",
    "\n",
    "session = Session()\n",
    "session.headers.update(headers)\n",
    "\n",
    "try:\n",
    "  response = session.get(url, params=parameters)\n",
    "  cmc_data = json.loads(response.text)\n",
    "  print(cmc_data)\n",
    "except (ConnectionError, Timeout, TooManyRedirects) as e:\n",
    "  print(e)"
   ]
  },
  {
   "cell_type": "code",
   "execution_count": 18,
   "id": "28e2a14f",
   "metadata": {},
   "outputs": [
    {
     "data": {
      "text/plain": [
       "2867968755179.7188"
      ]
     },
     "execution_count": 18,
     "metadata": {},
     "output_type": "execute_result"
    }
   ],
   "source": [
    "cmc_mc = cmc_data['data']['quote']['USD']['total_market_cap']\n",
    "cmc_mc"
   ]
  },
  {
   "cell_type": "code",
   "execution_count": 26,
   "id": "7cb2e9a9",
   "metadata": {},
   "outputs": [
    {
     "data": {
      "text/plain": [
       "{'active_cryptocurrencies': 7278,\n",
       " 'total_cryptocurrencies': 13967,\n",
       " 'active_market_pairs': 48173,\n",
       " 'active_exchanges': 430,\n",
       " 'total_exchanges': 1525,\n",
       " 'eth_dominance': 19.249919424703,\n",
       " 'btc_dominance': 43.686491481939,\n",
       " 'eth_dominance_yesterday': 19.34582831,\n",
       " 'btc_dominance_yesterday': 43.527431,\n",
       " 'eth_dominance_24h_percentage_change': -0.095908885297,\n",
       " 'btc_dominance_24h_percentage_change': 0.159060481939,\n",
       " 'defi_volume_24h': 24457386238.4281,\n",
       " 'defi_volume_24h_reported': 24457386238.4281,\n",
       " 'defi_market_cap': 172124302097.12164,\n",
       " 'defi_24h_percentage_change': 8.873333836972,\n",
       " 'stablecoin_volume_24h': 110910930368.5211,\n",
       " 'stablecoin_volume_24h_reported': 110910930368.5211,\n",
       " 'stablecoin_market_cap': 135783176361.29036,\n",
       " 'stablecoin_24h_percentage_change': 2.149766895152,\n",
       " 'derivatives_volume_24h': 228609446155.93042,\n",
       " 'derivatives_volume_24h_reported': 228609446155.93042,\n",
       " 'derivatives_24h_percentage_change': 6.292094717862,\n",
       " 'quote': {'USD': {'total_market_cap': 2867968755179.7188,\n",
       "   'total_volume_24h': 144945428408.32,\n",
       "   'total_volume_24h_reported': 144945428408.32,\n",
       "   'altcoin_volume_24h': 104060939794.98068,\n",
       "   'altcoin_volume_24h_reported': 104060939794.98068,\n",
       "   'altcoin_market_cap': 1615053829243.4724,\n",
       "   'defi_volume_24h': 24457386238.4281,\n",
       "   'defi_volume_24h_reported': 24457386238.4281,\n",
       "   'defi_24h_percentage_change': 8.873333836972,\n",
       "   'defi_market_cap': 172124302097.12164,\n",
       "   'stablecoin_volume_24h': 110910930368.5211,\n",
       "   'stablecoin_volume_24h_reported': 110910930368.5211,\n",
       "   'stablecoin_24h_percentage_change': 2.149766895152,\n",
       "   'stablecoin_market_cap': 135783176361.29036,\n",
       "   'derivatives_volume_24h': 228609446155.93042,\n",
       "   'derivatives_volume_24h_reported': 228609446155.93042,\n",
       "   'derivatives_24h_percentage_change': 6.292094717862,\n",
       "   'last_updated': '2021-11-10T20:45:10.999Z',\n",
       "   'total_market_cap_yesterday': 2916840189368.1377,\n",
       "   'total_volume_24h_yesterday': 143071251148.44,\n",
       "   'total_market_cap_yesterday_percentage_change': -1.675492348417123,\n",
       "   'total_volume_24h_yesterday_percentage_change': 1.3099607676845437}},\n",
       " 'last_updated': '2021-11-10T20:45:10.999Z'}"
      ]
     },
     "execution_count": 26,
     "metadata": {},
     "output_type": "execute_result"
    }
   ],
   "source": [
    "cmc_df = cmc_data['data']\n",
    "cmc_df"
   ]
  },
  {
   "cell_type": "markdown",
   "id": "c5799e5e",
   "metadata": {},
   "source": [
    "***_INDEX TOKENS_***"
   ]
  },
  {
   "cell_type": "code",
   "execution_count": 6,
   "id": "d53165ee",
   "metadata": {},
   "outputs": [],
   "source": [
    "# Request data from Kuc API & Convert to Json\n",
    "btc = requests.get('https://api.kucoin.com/api/v1/market/candles?type=8hour&symbol=BTC-USDT&startAt=1620360000&endAt=0')\n",
    "btc_j = btc.json()"
   ]
  },
  {
   "cell_type": "code",
   "execution_count": 7,
   "id": "eff8d7b6",
   "metadata": {},
   "outputs": [],
   "source": [
    "# Convert json to DataFrame\n",
    "btc_df = pd.DataFrame(btc_j['data'])"
   ]
  },
  {
   "cell_type": "code",
   "execution_count": 8,
   "id": "9540897e",
   "metadata": {
    "collapsed": true,
    "jupyter": {
     "outputs_hidden": true,
     "source_hidden": true
    }
   },
   "outputs": [
    {
     "data": {
      "text/html": [
       "<div>\n",
       "<style scoped>\n",
       "    .dataframe tbody tr th:only-of-type {\n",
       "        vertical-align: middle;\n",
       "    }\n",
       "\n",
       "    .dataframe tbody tr th {\n",
       "        vertical-align: top;\n",
       "    }\n",
       "\n",
       "    .dataframe thead th {\n",
       "        text-align: right;\n",
       "    }\n",
       "</style>\n",
       "<table border=\"1\" class=\"dataframe\">\n",
       "  <thead>\n",
       "    <tr style=\"text-align: right;\">\n",
       "      <th></th>\n",
       "      <th>Date</th>\n",
       "      <th>Open</th>\n",
       "      <th>Close</th>\n",
       "    </tr>\n",
       "  </thead>\n",
       "  <tbody>\n",
       "    <tr>\n",
       "      <th>0</th>\n",
       "      <td>1636560000</td>\n",
       "      <td>68339.8</td>\n",
       "      <td>67677.2</td>\n",
       "    </tr>\n",
       "    <tr>\n",
       "      <th>1</th>\n",
       "      <td>1636531200</td>\n",
       "      <td>66426</td>\n",
       "      <td>68339.8</td>\n",
       "    </tr>\n",
       "    <tr>\n",
       "      <th>2</th>\n",
       "      <td>1636502400</td>\n",
       "      <td>66943</td>\n",
       "      <td>66426</td>\n",
       "    </tr>\n",
       "    <tr>\n",
       "      <th>3</th>\n",
       "      <td>1636473600</td>\n",
       "      <td>66760.8</td>\n",
       "      <td>66941.7</td>\n",
       "    </tr>\n",
       "    <tr>\n",
       "      <th>4</th>\n",
       "      <td>1636444800</td>\n",
       "      <td>67856.5</td>\n",
       "      <td>66760.7</td>\n",
       "    </tr>\n",
       "    <tr>\n",
       "      <th>...</th>\n",
       "      <td>...</td>\n",
       "      <td>...</td>\n",
       "      <td>...</td>\n",
       "    </tr>\n",
       "    <tr>\n",
       "      <th>558</th>\n",
       "      <td>1620489600</td>\n",
       "      <td>57596.8</td>\n",
       "      <td>58863.1</td>\n",
       "    </tr>\n",
       "    <tr>\n",
       "      <th>559</th>\n",
       "      <td>1620460800</td>\n",
       "      <td>58455.6</td>\n",
       "      <td>57596.8</td>\n",
       "    </tr>\n",
       "    <tr>\n",
       "      <th>560</th>\n",
       "      <td>1620432000</td>\n",
       "      <td>57307.2</td>\n",
       "      <td>58455.7</td>\n",
       "    </tr>\n",
       "    <tr>\n",
       "      <th>561</th>\n",
       "      <td>1620403200</td>\n",
       "      <td>57518.3</td>\n",
       "      <td>57307.3</td>\n",
       "    </tr>\n",
       "    <tr>\n",
       "      <th>562</th>\n",
       "      <td>1620374400</td>\n",
       "      <td>55772.9</td>\n",
       "      <td>57520.1</td>\n",
       "    </tr>\n",
       "  </tbody>\n",
       "</table>\n",
       "<p>563 rows × 3 columns</p>\n",
       "</div>"
      ],
      "text/plain": [
       "           Date     Open    Close\n",
       "0    1636560000  68339.8  67677.2\n",
       "1    1636531200    66426  68339.8\n",
       "2    1636502400    66943    66426\n",
       "3    1636473600  66760.8  66941.7\n",
       "4    1636444800  67856.5  66760.7\n",
       "..          ...      ...      ...\n",
       "558  1620489600  57596.8  58863.1\n",
       "559  1620460800  58455.6  57596.8\n",
       "560  1620432000  57307.2  58455.7\n",
       "561  1620403200  57518.3  57307.3\n",
       "562  1620374400  55772.9  57520.1\n",
       "\n",
       "[563 rows x 3 columns]"
      ]
     },
     "execution_count": 8,
     "metadata": {},
     "output_type": "execute_result"
    }
   ],
   "source": [
    "# Rename Date, Open, & Close columns and remove others\n",
    "btc_df.rename(columns={0:'Date',1:'Open',2:'Close'}, inplace=True)\n",
    "\n",
    "btc_df.drop(columns = [3,4,5,6], inplace=True)\n",
    "btc_df"
   ]
  },
  {
   "cell_type": "code",
   "execution_count": 9,
   "id": "2368be97",
   "metadata": {
    "collapsed": true,
    "jupyter": {
     "outputs_hidden": true,
     "source_hidden": true
    }
   },
   "outputs": [
    {
     "data": {
      "text/plain": [
       "0      68008.50\n",
       "1      67382.90\n",
       "2      66684.50\n",
       "3      66851.25\n",
       "4      67308.60\n",
       "         ...   \n",
       "558    58229.95\n",
       "559    58026.20\n",
       "560    57881.45\n",
       "561    57412.80\n",
       "562    56646.50\n",
       "Name: Median, Length: 563, dtype: float64"
      ]
     },
     "execution_count": 9,
     "metadata": {},
     "output_type": "execute_result"
    }
   ],
   "source": [
    "# Create A DF with Median Price \n",
    "\n",
    "btc_median = btc_df[['Open','Close']].astype(float)\n",
    "\n",
    "btc_median['Median'] = btc_median[['Open','Close']].mean(axis=1)\n",
    "btc_median = btc_median['Median']\n",
    "btc_median"
   ]
  },
  {
   "cell_type": "code",
   "execution_count": 15,
   "id": "218d1b23",
   "metadata": {},
   "outputs": [],
   "source": [
    "btc_df_date = pd.to_datetime(btc_df['Date'], unit='s')\n",
    "btc_date = [btc_df_date, btc_median]\n",
    "btc_result = pd.concat(btc_date, axis=1, join = 'outer')\n",
    "#btc__fin = pd.DataFrame(btc_result)\n",
    "btc_plot = btc_result.set_index('Date')"
   ]
  },
  {
   "cell_type": "code",
   "execution_count": 16,
   "id": "bf142f9f",
   "metadata": {
    "collapsed": true,
    "jupyter": {
     "outputs_hidden": true
    }
   },
   "outputs": [
    {
     "data": {
      "text/plain": [
       "<AxesSubplot:xlabel='Date'>"
      ]
     },
     "execution_count": 16,
     "metadata": {},
     "output_type": "execute_result"
    },
    {
     "data": {
      "image/png": "[encoded data removed]",
      "text/plain": [
       "<Figure size 432x288 with 1 Axes>"
      ]
     },
     "metadata": {
      "needs_background": "light"
     },
     "output_type": "display_data"
    }
   ],
   "source": [
    "btc_plot.plot()"
   ]
  },
  {
   "cell_type": "code",
   "execution_count": null,
   "id": "cf6ae951",
   "metadata": {},
   "outputs": [],
   "source": [
    "eth = requests.get('https://api.kucoin.com/api/v1/market/candles?type=8hour&symbol=ETH-USDT&startAt=1566777600&endAt=0')\n",
    "eth_j = eth.json()\n",
    "eth_j"
   ]
  },
  {
   "cell_type": "code",
   "execution_count": null,
   "id": "779e2113",
   "metadata": {},
   "outputs": [],
   "source": [
    "bnb = requests.get('https://api.kucoin.com/api/v1/market/candles?type=8hour&symbol=BNB-USDT&startAt=1566777600&endAt=0')\n",
    "bnb_j = bnb.json()\n",
    "bnb_j"
   ]
  },
  {
   "cell_type": "markdown",
   "id": "63e668f9",
   "metadata": {},
   "source": [
    "***_MEME TOKENS_***"
   ]
  },
  {
   "cell_type": "code",
   "execution_count": null,
   "id": "bc084a1f",
   "metadata": {},
   "outputs": [],
   "source": [
    "doge = requests.get('https://api.kucoin.com/api/v1/market/candles?type=8hour&symbol=DOGE-USDT&startAt=1566777600&endAt=0')\n",
    "doge_j = doge.json()\n",
    "doge_j"
   ]
  },
  {
   "cell_type": "code",
   "execution_count": null,
   "id": "8bc4a280",
   "metadata": {},
   "outputs": [],
   "source": [
    "elon = requests.get('https://api.kucoin.com/api/v1/market/candles?type=8hour&symbol=ELON-USDT&startAt=1566777600&endAt=0')\n",
    "elon_j = elon.json()\n",
    "elon_j"
   ]
  },
  {
   "cell_type": "markdown",
   "id": "7829b131",
   "metadata": {},
   "source": [
    "***_DEFI TOKENS_***"
   ]
  },
  {
   "cell_type": "code",
   "execution_count": null,
   "id": "01a202dc",
   "metadata": {},
   "outputs": [],
   "source": [
    "uni = requests.get('https://api.kucoin.com/api/v1/market/candles?type=8hour&symbol=UNI-USDT&startAt=1566777600&endAt=0')\n",
    "uni_j = uni.json()\n",
    "uni_j"
   ]
  },
  {
   "cell_type": "code",
   "execution_count": null,
   "id": "946fedf0",
   "metadata": {},
   "outputs": [],
   "source": [
    "luna = requests.get('https://api.kucoin.com/api/v1/market/candles?type=8hour&symbol=LUNA-USDT&startAt=1566777600&endAt=0')\n",
    "luna_j = luna.json()\n",
    "luna_j"
   ]
  },
  {
   "cell_type": "code",
   "execution_count": null,
   "id": "2b818d3d",
   "metadata": {},
   "outputs": [],
   "source": [
    "avax = requests.get('https://api.kucoin.com/api/v1/market/candles?type=8hour&symbol=AVAX-USDT&startAt=1566777600&endAt=0')\n",
    "avax_j = avax.json()\n",
    "avax_j"
   ]
  },
  {
   "cell_type": "markdown",
   "id": "b490c1a6",
   "metadata": {},
   "source": [
    "***_STORAGE TOKENS_***"
   ]
  },
  {
   "cell_type": "code",
   "execution_count": null,
   "id": "b469150b",
   "metadata": {},
   "outputs": [],
   "source": [
    "fil = requests.get('https://api.kucoin.com/api/v1/market/candles?type=8hour&symbol=FIL-USDT&startAt=1566777600')\n",
    "fil_j = fil.json()\n",
    "fil_j"
   ]
  },
  {
   "cell_type": "code",
   "execution_count": null,
   "id": "468e89bc",
   "metadata": {},
   "outputs": [],
   "source": [
    "btt = requests.get('https://api.kucoin.com/api/v1/market/candles?type=8hour&symbol=BTT-USDT&startAt=1566777600')\n",
    "btt_j = btt.json()\n",
    "btt_j"
   ]
  },
  {
   "cell_type": "code",
   "execution_count": null,
   "id": "08e1c77b",
   "metadata": {},
   "outputs": [],
   "source": [
    "storj = requests.get('https://api.kucoin.com/api/v1/market/candles?type=8hour&symbol=STORJ-USDT&startAt=1566777600')\n",
    "storj_j = storj.json()\n",
    "storj_j"
   ]
  },
  {
   "cell_type": "code",
   "execution_count": null,
   "id": "cc65b79c",
   "metadata": {},
   "outputs": [],
   "source": []
  },
  {
   "cell_type": "code",
   "execution_count": null,
   "id": "72798d2e",
   "metadata": {},
   "outputs": [],
   "source": []
  }
 ],
 "metadata": {
  "kernelspec": {
   "display_name": "Python [conda env:pyvizenv] *",
   "language": "python",
   "name": "conda-env-pyvizenv-py"
  },
  "language_info": {
   "codemirror_mode": {
    "name": "ipython",
    "version": 3
   },
   "file_extension": ".py",
   "mimetype": "text/x-python",
   "name": "python",
   "nbconvert_exporter": "python",
   "pygments_lexer": "ipython3",
   "version": "3.7.10"
  }
 },
 "nbformat": 4,
 "nbformat_minor": 5
}
