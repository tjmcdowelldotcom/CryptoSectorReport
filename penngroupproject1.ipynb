{
 "cells": [
  {
   "cell_type": "code",
   "execution_count": 2,
   "id": "728b64f2",
   "metadata": {},
   "outputs": [],
   "source": [
    "from kucoin.client import Client\n",
    "from kucoin.asyncio import KucoinSocketManager\n",
    "import os\n",
    "import numpy as np\n",
    "import pandas as pd\n",
    "import matplotlib.pyplot as plt\n",
    "import mplfinance as mpf\n",
    "import asyncio\n",
    "import plotly.express as px\n",
    "from pathlib import Path\n",
    "import time as t\n",
    "import threading\n",
    "import requests\n",
    "from requests import Request, Session\n",
    "import datetime\n",
    "from requests.exceptions import ConnectionError, Timeout, TooManyRedirects\n",
    "import json\n",
    "\n",
    "%matplotlib inline"
   ]
  },
  {
   "cell_type": "code",
   "execution_count": 3,
   "id": "34b34dd8",
   "metadata": {},
   "outputs": [
    {
     "data": {
      "text/plain": [
       "True"
      ]
     },
     "execution_count": 3,
     "metadata": {},
     "output_type": "execute_result"
    }
   ],
   "source": [
    "from dotenv import load_dotenv\n",
    "load_dotenv()"
   ]
  },
  {
   "cell_type": "code",
   "execution_count": 4,
   "id": "f05c7413",
   "metadata": {},
   "outputs": [
    {
     "data": {
      "text/plain": [
       "<kucoin.client.Client at 0x224920b2fc8>"
      ]
     },
     "execution_count": 4,
     "metadata": {},
     "output_type": "execute_result"
    }
   ],
   "source": [
    "api_key = os.getenv(\"KUCOIN_API_KEY\")\n",
    "secret_key = os.getenv(\"KUCOIN_SECRET_KEY\")\n",
    "passphrase = os.getenv(\"KUCOIN_PASSPHRASE\")\n",
    "cmc_key = os.getenv('CMC_KEY')\n",
    "client = Client(api_key,secret_key,passphrase)\n",
    "client"
   ]
  },
  {
   "cell_type": "code",
   "execution_count": 5,
   "id": "513c1068",
   "metadata": {},
   "outputs": [],
   "source": [
    "accounts = client.get_accounts()\n",
    "dfkcs = pd.DataFrame(accounts)\n",
    "dfkcs2 = dfkcs.groupby('currency').sum()\n",
    "dfkcs2.to_csv('dfkcs2.csv')"
   ]
  },
  {
   "cell_type": "raw",
   "id": "166ec645",
   "metadata": {
    "jupyter": {
     "outputs_hidden": true
    }
   },
   "source": [
    "currencies = client.get_currencies()\n",
    "currencies"
   ]
  },
  {
   "cell_type": "markdown",
   "id": "283a9dc5",
   "metadata": {
    "jupyter": {
     "outputs_hidden": true
    }
   },
   "source": [
    "***_COIN MARKET CAP DATA_***"
   ]
  },
  {
   "cell_type": "raw",
   "id": "11084348",
   "metadata": {
    "jupyter": {
     "outputs_hidden": true
    }
   },
   "source": [
    "cmc = requests.get('')\n",
    "cmc_j= cmc.json()\n",
    "cmc_j"
   ]
  },
  {
   "cell_type": "raw",
   "id": "4aa7d9e1",
   "metadata": {},
   "source": [
    "url = 'https://pro-api.coinmarketcap.com/v1/global-metrics/quotes/latest'\n",
    "parameters = {\n",
    "\n",
    "}\n",
    "headers = {\n",
    "  'Accepts': 'application/json',\n",
    "  'X-CMC_PRO_API_KEY': cmc_key,\n",
    "}\n",
    "\n",
    "session = Session()\n",
    "session.headers.update(headers)\n",
    "\n",
    "try:\n",
    "  response = session.get(url, params=parameters)\n",
    "  cmc_data = json.loads(response.text)\n",
    "  print(cmc_data)\n",
    "except (ConnectionError, Timeout, TooManyRedirects) as e:\n",
    "  print(e)"
   ]
  },
  {
   "cell_type": "raw",
   "id": "d3cbc8a8",
   "metadata": {},
   "source": [
    "# Retrieving total crypto market cap (USD)\n",
    "cmc_mc = cmc_data['data']['quote']['USD']['total_market_cap']\n",
    "cmc_mc"
   ]
  },
  {
   "cell_type": "raw",
   "id": "354f2377",
   "metadata": {},
   "source": [
    "# Calculating \n",
    "\n",
    "cmc_df = cmc_data['data']\n",
    "eth = cmc_df['eth_dominance']\n",
    "btc = cmc_df['btc_dominance']\n",
    "pd.DataFrame([eth,btc])"
   ]
  },
  {
   "cell_type": "markdown",
   "id": "6753fce5",
   "metadata": {},
   "source": [
    "***_INDEX TOKENS_***"
   ]
  },
  {
   "cell_type": "code",
   "execution_count": 6,
   "id": "3ec91ec1",
   "metadata": {},
   "outputs": [],
   "source": [
    "# Request data from Kuc API & Convert to Json\n",
    "btc = requests.get('https://api.kucoin.com/api/v1/market/candles?type=8hour&symbol=BTC-USDT&startAt=1620360000&endAt=0')\n",
    "btc_j = btc.json()"
   ]
  },
  {
   "cell_type": "code",
   "execution_count": 7,
   "id": "2ad83355",
   "metadata": {},
   "outputs": [],
   "source": [
    "# Convert json to DataFrame\n",
    "btc_df = pd.DataFrame(btc_j['data'])"
   ]
  },
  {
   "cell_type": "code",
   "execution_count": 8,
   "id": "c816b7b8",
   "metadata": {},
   "outputs": [
    {
     "data": {
      "text/html": [
       "<div>\n",
       "<style scoped>\n",
       "    .dataframe tbody tr th:only-of-type {\n",
       "        vertical-align: middle;\n",
       "    }\n",
       "\n",
       "    .dataframe tbody tr th {\n",
       "        vertical-align: top;\n",
       "    }\n",
       "\n",
       "    .dataframe thead th {\n",
       "        text-align: right;\n",
       "    }\n",
       "</style>\n",
       "<table border=\"1\" class=\"dataframe\">\n",
       "  <thead>\n",
       "    <tr style=\"text-align: right;\">\n",
       "      <th></th>\n",
       "      <th>Date</th>\n",
       "      <th>Open</th>\n",
       "      <th>Close</th>\n",
       "    </tr>\n",
       "  </thead>\n",
       "  <tbody>\n",
       "    <tr>\n",
       "      <th>0</th>\n",
       "      <td>1636646400</td>\n",
       "      <td>64805.8</td>\n",
       "      <td>64831</td>\n",
       "    </tr>\n",
       "    <tr>\n",
       "      <th>1</th>\n",
       "      <td>1636617600</td>\n",
       "      <td>65241.5</td>\n",
       "      <td>64805.9</td>\n",
       "    </tr>\n",
       "    <tr>\n",
       "      <th>2</th>\n",
       "      <td>1636588800</td>\n",
       "      <td>64892.2</td>\n",
       "      <td>65241.4</td>\n",
       "    </tr>\n",
       "    <tr>\n",
       "      <th>3</th>\n",
       "      <td>1636560000</td>\n",
       "      <td>68339.8</td>\n",
       "      <td>64892.2</td>\n",
       "    </tr>\n",
       "    <tr>\n",
       "      <th>4</th>\n",
       "      <td>1636531200</td>\n",
       "      <td>66426</td>\n",
       "      <td>68339.8</td>\n",
       "    </tr>\n",
       "    <tr>\n",
       "      <th>...</th>\n",
       "      <td>...</td>\n",
       "      <td>...</td>\n",
       "      <td>...</td>\n",
       "    </tr>\n",
       "    <tr>\n",
       "      <th>561</th>\n",
       "      <td>1620489600</td>\n",
       "      <td>57596.8</td>\n",
       "      <td>58863.1</td>\n",
       "    </tr>\n",
       "    <tr>\n",
       "      <th>562</th>\n",
       "      <td>1620460800</td>\n",
       "      <td>58455.6</td>\n",
       "      <td>57596.8</td>\n",
       "    </tr>\n",
       "    <tr>\n",
       "      <th>563</th>\n",
       "      <td>1620432000</td>\n",
       "      <td>57307.2</td>\n",
       "      <td>58455.7</td>\n",
       "    </tr>\n",
       "    <tr>\n",
       "      <th>564</th>\n",
       "      <td>1620403200</td>\n",
       "      <td>57518.3</td>\n",
       "      <td>57307.3</td>\n",
       "    </tr>\n",
       "    <tr>\n",
       "      <th>565</th>\n",
       "      <td>1620374400</td>\n",
       "      <td>55772.9</td>\n",
       "      <td>57520.1</td>\n",
       "    </tr>\n",
       "  </tbody>\n",
       "</table>\n",
       "<p>566 rows × 3 columns</p>\n",
       "</div>"
      ],
      "text/plain": [
       "           Date     Open    Close\n",
       "0    1636646400  64805.8    64831\n",
       "1    1636617600  65241.5  64805.9\n",
       "2    1636588800  64892.2  65241.4\n",
       "3    1636560000  68339.8  64892.2\n",
       "4    1636531200    66426  68339.8\n",
       "..          ...      ...      ...\n",
       "561  1620489600  57596.8  58863.1\n",
       "562  1620460800  58455.6  57596.8\n",
       "563  1620432000  57307.2  58455.7\n",
       "564  1620403200  57518.3  57307.3\n",
       "565  1620374400  55772.9  57520.1\n",
       "\n",
       "[566 rows x 3 columns]"
      ]
     },
     "execution_count": 8,
     "metadata": {},
     "output_type": "execute_result"
    }
   ],
   "source": [
    "# Rename Date, Open, & Close columns and remove others\n",
    "btc_df.rename(columns={0:'Date',1:'Open',2:'Close'}, inplace=True)\n",
    "\n",
    "btc_df.drop(columns = [3,4,5,6], inplace=True)\n",
    "btc_df"
   ]
  },
  {
   "cell_type": "code",
   "execution_count": 9,
   "id": "b396a71e",
   "metadata": {},
   "outputs": [
    {
     "data": {
      "text/plain": [
       "0      64818.40\n",
       "1      65023.70\n",
       "2      65066.80\n",
       "3      66616.00\n",
       "4      67382.90\n",
       "         ...   \n",
       "561    58229.95\n",
       "562    58026.20\n",
       "563    57881.45\n",
       "564    57412.80\n",
       "565    56646.50\n",
       "Name: BTC Median, Length: 566, dtype: float64"
      ]
     },
     "execution_count": 9,
     "metadata": {},
     "output_type": "execute_result"
    }
   ],
   "source": [
    "# Create A DF with Median Price \n",
    "\n",
    "btc_median = btc_df[['Open','Close']].astype(float)\n",
    "\n",
    "btc_median['BTC Median'] = btc_median[['Open','Close']].mean(axis=1)\n",
    "btc_median = btc_median['BTC Median']\n",
    "btc_median"
   ]
  },
  {
   "cell_type": "code",
   "execution_count": 10,
   "id": "c385e913",
   "metadata": {},
   "outputs": [],
   "source": [
    "btc_df_date = pd.to_datetime(btc_df['Date'], unit='s')\n",
    "btc_date = [btc_df_date, btc_median]\n",
    "btc_result = pd.concat(btc_date, axis=1, join = 'outer')\n",
    "#btc__fin = pd.DataFrame(btc_result)\n",
    "btc_plot = btc_result.set_index('Date')\n",
    "btc_result.set_index('Date', inplace=True)"
   ]
  },
  {
   "cell_type": "code",
   "execution_count": 11,
   "id": "53aceeaf",
   "metadata": {},
   "outputs": [
    {
     "data": {
      "text/plain": [
       "<AxesSubplot:xlabel='Date'>"
      ]
     },
     "execution_count": 11,
     "metadata": {},
     "output_type": "execute_result"
    },
    {
     "data": {
      "image/png": "[encoded data removed]",
      "text/plain": [
       "<Figure size 432x288 with 1 Axes>"
      ]
     },
     "metadata": {
      "needs_background": "light"
     },
     "output_type": "display_data"
    }
   ],
   "source": [
    "btc_plot.plot()"
   ]
  },
  {
   "cell_type": "code",
   "execution_count": 12,
   "id": "80bbd9df",
   "metadata": {},
   "outputs": [],
   "source": [
    "eth = requests.get('https://api.kucoin.com/api/v1/market/candles?type=8hour&symbol=ETH-USDT&startAt=1620360000&endAt=0')\n",
    "eth_j = eth.json()\n",
    "eth_df = pd.DataFrame(eth_j['data'])\n",
    "eth_df.rename(columns={0:'Date',1:'Open',2:'Close'}, inplace=True)\n",
    "eth_df.drop(columns = [3,4,5,6], inplace=True)\n",
    "eth_median = eth_df[['Open','Close']].astype(float)\n",
    "eth_median['ETH Median'] = eth_median[['Open','Close']].mean(axis=1)\n",
    "eth_median = eth_median['ETH Median']\n",
    "eth_df_date = pd.to_datetime(eth_df['Date'], unit='s')\n",
    "eth_date = [eth_df_date, eth_median]\n",
    "eth_result = pd.concat(eth_date, axis=1, join = 'outer')\n",
    "eth_result.set_index('Date', inplace=True)"
   ]
  },
  {
   "cell_type": "code",
   "execution_count": 20,
   "id": "9b322192",
   "metadata": {},
   "outputs": [],
   "source": [
    "bnb = requests.get('https://api.kucoin.com/api/v1/market/candles?type=8hour&symbol=BNB-USDT&startAt=1620360000&endAt=0')\n",
    "bnb_j = bnb.json()\n",
    "bnb_df = pd.DataFrame(bnb_j['data'])\n",
    "bnb_df.rename(columns={0:'Date',1:'Open',2:'Close'}, inplace=True)\n",
    "bnb_df.drop(columns = [3,4,5,6], inplace=True)\n",
    "bnb_median = bnb_df[['Open','Close']].astype(float)\n",
    "bnb_median['BNB Median'] = bnb_median[['Open','Close']].mean(axis=1)\n",
    "bnb_median = bnb_median['BNB Median']\n",
    "bnb_df_date = pd.to_datetime(bnb_df['Date'], unit='s')\n",
    "bnb_date = [bnb_df_date, bnb_median]\n",
    "bnb_result = pd.concat(bnb_date, axis=1, join = 'outer')\n",
    "bnb_result.set_index('Date', inplace=True)"
   ]
  },
  {
   "cell_type": "code",
   "execution_count": 21,
   "id": "20789d64",
   "metadata": {},
   "outputs": [],
   "source": [
    "doge = requests.get('https://api.kucoin.com/api/v1/market/candles?type=8hour&symbol=DOGE-USDT&startAt=1620360000&endAt=0')\n",
    "doge_j = doge.json()\n",
    "doge_df = pd.DataFrame(doge_j['data'])\n",
    "doge_df.rename(columns={0:'Date',1:'Open',2:'Close'}, inplace=True)\n",
    "doge_df.drop(columns = [3,4,5,6], inplace=True)\n",
    "doge_median = doge_df[['Open','Close']].astype(float)\n",
    "doge_median['DOGE Median'] = doge_median[['Open','Close']].mean(axis=1)\n",
    "doge_median = doge_median['DOGE Median']\n",
    "doge_df_date = pd.to_datetime(doge_df['Date'], unit='s')\n",
    "doge_date = [doge_df_date, doge_median]\n",
    "doge_result = pd.concat(doge_date, axis=1, join = 'outer')\n",
    "doge_result.set_index('Date', inplace=True)"
   ]
  },
  {
   "cell_type": "code",
   "execution_count": 22,
   "id": "93e582cc",
   "metadata": {},
   "outputs": [],
   "source": [
    "ltc = requests.get('https://api.kucoin.com/api/v1/market/candles?type=8hour&symbol=LTC-USDT&startAt=1620360000&endAt=0')\n",
    "ltc_j = ltc.json()\n",
    "ltc_df = pd.DataFrame(ltc_j['data'])\n",
    "ltc_df.rename(columns={0:'Date',1:'Open',2:'Close'}, inplace=True)\n",
    "ltc_df.drop(columns = [3,4,5,6], inplace=True)\n",
    "ltc_median = ltc_df[['Open','Close']].astype(float)\n",
    "ltc_median['LTC Median'] = ltc_median[['Open','Close']].mean(axis=1)\n",
    "ltc_median = ltc_median['LTC Median']\n",
    "ltc_df_date = pd.to_datetime(ltc_df['Date'], unit='s')\n",
    "ltc_date = [ltc_df_date, ltc_median]\n",
    "ltc_result = pd.concat(ltc_date, axis=1, join = 'outer')\n",
    "ltc_result.set_index('Date', inplace=True)"
   ]
  },
  {
   "cell_type": "code",
   "execution_count": 23,
   "id": "8ab8c22a",
   "metadata": {},
   "outputs": [],
   "source": [
    "ada = requests.get('https://api.kucoin.com/api/v1/market/candles?type=8hour&symbol=ADA-USDT&startAt=1620360000&endAt=0')\n",
    "ada_j = ada.json()\n",
    "ada_df = pd.DataFrame(ada_j['data'])\n",
    "ada_df.rename(columns={0:'Date',1:'Open',2:'Close'}, inplace=True)\n",
    "ada_df.drop(columns = [3,4,5,6], inplace=True)\n",
    "ada_median = ada_df[['Open','Close']].astype(float)\n",
    "ada_median['ADA Median'] = ada_median[['Open','Close']].mean(axis=1)\n",
    "ada_median = ada_median['ADA Median']\n",
    "ada_df_date = pd.to_datetime(ada_df['Date'], unit='s')\n",
    "ada_date = [ada_df_date, ada_median]\n",
    "ada_result = pd.concat(ada_date, axis=1, join = 'outer')\n",
    "ada_result.set_index('Date', inplace=True)"
   ]
  },
  {
   "cell_type": "code",
   "execution_count": 24,
   "id": "492af530",
   "metadata": {},
   "outputs": [],
   "source": [
    "xrp = requests.get('https://api.kucoin.com/api/v1/market/candles?type=8hour&symbol=XRP-USDT&startAt=1620360000&endAt=0')\n",
    "xrp_j = xrp.json()\n",
    "xrp_df = pd.DataFrame(xrp_j['data'])\n",
    "xrp_df.rename(columns={0:'Date',1:'Open',2:'Close'}, inplace=True)\n",
    "xrp_df.drop(columns = [3,4,5,6], inplace=True)\n",
    "xrp_median = xrp_df[['Open','Close']].astype(float)\n",
    "xrp_median['XRP Median'] = xrp_median[['Open','Close']].mean(axis=1)\n",
    "xrp_median = xrp_median['XRP Median']\n",
    "xrp_df_date = pd.to_datetime(xrp_df['Date'], unit='s')\n",
    "xrp_date = [xrp_df_date, xrp_median]\n",
    "xrp_result = pd.concat(xrp_date, axis=1, join = 'outer')\n",
    "xrp_result.set_index('Date', inplace=True)"
   ]
  },
  {
   "cell_type": "code",
   "execution_count": 25,
   "id": "e381d15d",
   "metadata": {},
   "outputs": [],
   "source": [
    "usdt = requests.get('https://api.kucoin.com/api/v1/market/candles?type=8hour&symbol=USDT-USDC&startAt=1620360000&endAt=0')\n",
    "usdt_j = usdt.json()\n",
    "usdt_df = pd.DataFrame(usdt_j['data'])\n",
    "usdt_df.rename(columns={0:'Date',1:'Open',2:'Close'}, inplace=True)\n",
    "usdt_df.drop(columns = [3,4,5,6], inplace=True)\n",
    "usdt_median = usdt_df[['Open','Close']].astype(float)\n",
    "usdt_median['USDT Median'] = usdt_median[['Open','Close']].mean(axis=1)\n",
    "usdt_median = usdt_median['USDT Median']\n",
    "usdt_df_date = pd.to_datetime(usdt_df['Date'], unit='s')\n",
    "usdt_date = [usdt_df_date, usdt_median]\n",
    "usdt_result = pd.concat(usdt_date, axis=1, join = 'outer')\n",
    "usdt_result.set_index('Date', inplace=True)"
   ]
  },
  {
   "cell_type": "code",
   "execution_count": 26,
   "id": "911ffb3a",
   "metadata": {},
   "outputs": [],
   "source": [
    "link = requests.get('https://api.kucoin.com/api/v1/market/candles?type=8hour&symbol=LINK-USDT&startAt=1620360000&endAt=0')\n",
    "link_j = link.json()\n",
    "link_df = pd.DataFrame(link_j['data'])\n",
    "link_df.rename(columns={0:'Date',1:'Open',2:'Close'}, inplace=True)\n",
    "link_df.drop(columns = [3,4,5,6], inplace=True)\n",
    "link_median = link_df[['Open','Close']].astype(float)\n",
    "link_median['LINK Median'] = link_median[['Open','Close']].mean(axis=1)\n",
    "link_median = link_median['LINK Median']\n",
    "link_df_date = pd.to_datetime(link_df['Date'], unit='s')\n",
    "link_date = [link_df_date, link_median]\n",
    "link_result = pd.concat(link_date, axis=1, join = 'outer')\n",
    "link_result.set_index('Date', inplace=True)"
   ]
  },
  {
   "cell_type": "code",
   "execution_count": 27,
   "id": "43014f7d",
   "metadata": {},
   "outputs": [],
   "source": [
    "uni = requests.get('https://api.kucoin.com/api/v1/market/candles?type=8hour&symbol=UNI-USDT&startAt=1620360000&endAt=0')\n",
    "uni_j = uni.json()\n",
    "uni_df = pd.DataFrame(uni_j['data'])\n",
    "uni_df.rename(columns={0:'Date',1:'Open',2:'Close'}, inplace=True)\n",
    "uni_df.drop(columns = [3,4,5,6], inplace=True)\n",
    "uni_median = uni_df[['Open','Close']].astype(float)\n",
    "uni_median['UNI Median'] = uni_median[['Open','Close']].mean(axis=1)\n",
    "uni_median = uni_median['UNI Median']\n",
    "uni_df_date = pd.to_datetime(uni_df['Date'], unit='s')\n",
    "uni_date = [uni_df_date, uni_median]\n",
    "uni_result = pd.concat(uni_date, axis=1, join = 'outer')\n",
    "uni_result.set_index('Date', inplace=True)"
   ]
  },
  {
   "cell_type": "code",
   "execution_count": 28,
   "id": "f6abb1b2",
   "metadata": {},
   "outputs": [
    {
     "data": {
      "text/html": [
       "<div>\n",
       "<style scoped>\n",
       "    .dataframe tbody tr th:only-of-type {\n",
       "        vertical-align: middle;\n",
       "    }\n",
       "\n",
       "    .dataframe tbody tr th {\n",
       "        vertical-align: top;\n",
       "    }\n",
       "\n",
       "    .dataframe thead th {\n",
       "        text-align: right;\n",
       "    }\n",
       "</style>\n",
       "<table border=\"1\" class=\"dataframe\">\n",
       "  <thead>\n",
       "    <tr style=\"text-align: right;\">\n",
       "      <th></th>\n",
       "      <th>BTC Median</th>\n",
       "      <th>ETH Median</th>\n",
       "      <th>ADA Median</th>\n",
       "      <th>DOGE Median</th>\n",
       "      <th>LTC Median</th>\n",
       "      <th>BNB Median</th>\n",
       "      <th>XRP Median</th>\n",
       "      <th>UNI Median</th>\n",
       "      <th>LINK Median</th>\n",
       "      <th>USDT Median</th>\n",
       "      <th>ADA Median</th>\n",
       "    </tr>\n",
       "    <tr>\n",
       "      <th>Date</th>\n",
       "      <th></th>\n",
       "      <th></th>\n",
       "      <th></th>\n",
       "      <th></th>\n",
       "      <th></th>\n",
       "      <th></th>\n",
       "      <th></th>\n",
       "      <th></th>\n",
       "      <th></th>\n",
       "      <th></th>\n",
       "      <th></th>\n",
       "    </tr>\n",
       "  </thead>\n",
       "  <tbody>\n",
       "    <tr>\n",
       "      <th>2021-11-11 16:00:00</th>\n",
       "      <td>64818.40</td>\n",
       "      <td>4721.300</td>\n",
       "      <td>2.079306</td>\n",
       "      <td>0.264835</td>\n",
       "      <td>264.9595</td>\n",
       "      <td>624.3240</td>\n",
       "      <td>1.212195</td>\n",
       "      <td>25.45410</td>\n",
       "      <td>35.51920</td>\n",
       "      <td>1.00030</td>\n",
       "      <td>2.079306</td>\n",
       "    </tr>\n",
       "    <tr>\n",
       "      <th>2021-11-11 08:00:00</th>\n",
       "      <td>65023.70</td>\n",
       "      <td>4705.560</td>\n",
       "      <td>2.109834</td>\n",
       "      <td>0.263585</td>\n",
       "      <td>265.0075</td>\n",
       "      <td>627.6265</td>\n",
       "      <td>1.228695</td>\n",
       "      <td>25.59940</td>\n",
       "      <td>35.84615</td>\n",
       "      <td>1.00035</td>\n",
       "      <td>2.109834</td>\n",
       "    </tr>\n",
       "    <tr>\n",
       "      <th>2021-11-11 00:00:00</th>\n",
       "      <td>65066.80</td>\n",
       "      <td>4661.345</td>\n",
       "      <td>2.120424</td>\n",
       "      <td>0.258475</td>\n",
       "      <td>262.8735</td>\n",
       "      <td>622.4050</td>\n",
       "      <td>1.217850</td>\n",
       "      <td>25.49950</td>\n",
       "      <td>35.22165</td>\n",
       "      <td>1.00065</td>\n",
       "      <td>2.120424</td>\n",
       "    </tr>\n",
       "    <tr>\n",
       "      <th>2021-11-10 16:00:00</th>\n",
       "      <td>66616.00</td>\n",
       "      <td>4739.455</td>\n",
       "      <td>2.175009</td>\n",
       "      <td>0.263620</td>\n",
       "      <td>273.7815</td>\n",
       "      <td>632.7695</td>\n",
       "      <td>1.256170</td>\n",
       "      <td>26.59735</td>\n",
       "      <td>36.17580</td>\n",
       "      <td>1.00040</td>\n",
       "      <td>2.175009</td>\n",
       "    </tr>\n",
       "    <tr>\n",
       "      <th>2021-11-10 08:00:00</th>\n",
       "      <td>67382.90</td>\n",
       "      <td>4781.610</td>\n",
       "      <td>2.238499</td>\n",
       "      <td>0.271960</td>\n",
       "      <td>278.0690</td>\n",
       "      <td>647.8305</td>\n",
       "      <td>1.279540</td>\n",
       "      <td>27.20790</td>\n",
       "      <td>36.28585</td>\n",
       "      <td>1.00015</td>\n",
       "      <td>2.238499</td>\n",
       "    </tr>\n",
       "    <tr>\n",
       "      <th>...</th>\n",
       "      <td>...</td>\n",
       "      <td>...</td>\n",
       "      <td>...</td>\n",
       "      <td>...</td>\n",
       "      <td>...</td>\n",
       "      <td>...</td>\n",
       "      <td>...</td>\n",
       "      <td>...</td>\n",
       "      <td>...</td>\n",
       "      <td>...</td>\n",
       "      <td>...</td>\n",
       "    </tr>\n",
       "    <tr>\n",
       "      <th>2021-05-08 16:00:00</th>\n",
       "      <td>58229.95</td>\n",
       "      <td>3770.255</td>\n",
       "      <td>1.594860</td>\n",
       "      <td>0.644480</td>\n",
       "      <td>341.1250</td>\n",
       "      <td>643.0210</td>\n",
       "      <td>1.554750</td>\n",
       "      <td>40.26905</td>\n",
       "      <td>47.78225</td>\n",
       "      <td>1.00160</td>\n",
       "      <td>1.594860</td>\n",
       "    </tr>\n",
       "    <tr>\n",
       "      <th>2021-05-08 08:00:00</th>\n",
       "      <td>58026.20</td>\n",
       "      <td>3579.080</td>\n",
       "      <td>1.603436</td>\n",
       "      <td>0.679830</td>\n",
       "      <td>340.6505</td>\n",
       "      <td>634.3460</td>\n",
       "      <td>1.573590</td>\n",
       "      <td>39.83970</td>\n",
       "      <td>47.80075</td>\n",
       "      <td>1.00140</td>\n",
       "      <td>1.603436</td>\n",
       "    </tr>\n",
       "    <tr>\n",
       "      <th>2021-05-08 00:00:00</th>\n",
       "      <td>57881.45</td>\n",
       "      <td>3503.850</td>\n",
       "      <td>1.646801</td>\n",
       "      <td>0.698930</td>\n",
       "      <td>345.5525</td>\n",
       "      <td>626.4420</td>\n",
       "      <td>1.589135</td>\n",
       "      <td>39.68295</td>\n",
       "      <td>48.89850</td>\n",
       "      <td>1.00120</td>\n",
       "      <td>1.646801</td>\n",
       "    </tr>\n",
       "    <tr>\n",
       "      <th>2021-05-07 16:00:00</th>\n",
       "      <td>57412.80</td>\n",
       "      <td>3520.205</td>\n",
       "      <td>1.675168</td>\n",
       "      <td>0.645165</td>\n",
       "      <td>348.3150</td>\n",
       "      <td>630.2115</td>\n",
       "      <td>1.601355</td>\n",
       "      <td>40.20290</td>\n",
       "      <td>49.03290</td>\n",
       "      <td>1.00105</td>\n",
       "      <td>1.675168</td>\n",
       "    </tr>\n",
       "    <tr>\n",
       "      <th>2021-05-07 08:00:00</th>\n",
       "      <td>56646.50</td>\n",
       "      <td>3497.655</td>\n",
       "      <td>1.660197</td>\n",
       "      <td>0.616585</td>\n",
       "      <td>360.1460</td>\n",
       "      <td>628.6850</td>\n",
       "      <td>1.599015</td>\n",
       "      <td>40.33190</td>\n",
       "      <td>47.83170</td>\n",
       "      <td>1.00120</td>\n",
       "      <td>1.660197</td>\n",
       "    </tr>\n",
       "  </tbody>\n",
       "</table>\n",
       "<p>566 rows × 11 columns</p>\n",
       "</div>"
      ],
      "text/plain": [
       "                     BTC Median  ETH Median  ADA Median  DOGE Median  \\\n",
       "Date                                                                   \n",
       "2021-11-11 16:00:00    64818.40    4721.300    2.079306     0.264835   \n",
       "2021-11-11 08:00:00    65023.70    4705.560    2.109834     0.263585   \n",
       "2021-11-11 00:00:00    65066.80    4661.345    2.120424     0.258475   \n",
       "2021-11-10 16:00:00    66616.00    4739.455    2.175009     0.263620   \n",
       "2021-11-10 08:00:00    67382.90    4781.610    2.238499     0.271960   \n",
       "...                         ...         ...         ...          ...   \n",
       "2021-05-08 16:00:00    58229.95    3770.255    1.594860     0.644480   \n",
       "2021-05-08 08:00:00    58026.20    3579.080    1.603436     0.679830   \n",
       "2021-05-08 00:00:00    57881.45    3503.850    1.646801     0.698930   \n",
       "2021-05-07 16:00:00    57412.80    3520.205    1.675168     0.645165   \n",
       "2021-05-07 08:00:00    56646.50    3497.655    1.660197     0.616585   \n",
       "\n",
       "                     LTC Median  BNB Median  XRP Median  UNI Median  \\\n",
       "Date                                                                  \n",
       "2021-11-11 16:00:00    264.9595    624.3240    1.212195    25.45410   \n",
       "2021-11-11 08:00:00    265.0075    627.6265    1.228695    25.59940   \n",
       "2021-11-11 00:00:00    262.8735    622.4050    1.217850    25.49950   \n",
       "2021-11-10 16:00:00    273.7815    632.7695    1.256170    26.59735   \n",
       "2021-11-10 08:00:00    278.0690    647.8305    1.279540    27.20790   \n",
       "...                         ...         ...         ...         ...   \n",
       "2021-05-08 16:00:00    341.1250    643.0210    1.554750    40.26905   \n",
       "2021-05-08 08:00:00    340.6505    634.3460    1.573590    39.83970   \n",
       "2021-05-08 00:00:00    345.5525    626.4420    1.589135    39.68295   \n",
       "2021-05-07 16:00:00    348.3150    630.2115    1.601355    40.20290   \n",
       "2021-05-07 08:00:00    360.1460    628.6850    1.599015    40.33190   \n",
       "\n",
       "                     LINK Median  USDT Median  ADA Median  \n",
       "Date                                                       \n",
       "2021-11-11 16:00:00     35.51920      1.00030    2.079306  \n",
       "2021-11-11 08:00:00     35.84615      1.00035    2.109834  \n",
       "2021-11-11 00:00:00     35.22165      1.00065    2.120424  \n",
       "2021-11-10 16:00:00     36.17580      1.00040    2.175009  \n",
       "2021-11-10 08:00:00     36.28585      1.00015    2.238499  \n",
       "...                          ...          ...         ...  \n",
       "2021-05-08 16:00:00     47.78225      1.00160    1.594860  \n",
       "2021-05-08 08:00:00     47.80075      1.00140    1.603436  \n",
       "2021-05-08 00:00:00     48.89850      1.00120    1.646801  \n",
       "2021-05-07 16:00:00     49.03290      1.00105    1.675168  \n",
       "2021-05-07 08:00:00     47.83170      1.00120    1.660197  \n",
       "\n",
       "[566 rows x 11 columns]"
      ]
     },
     "execution_count": 28,
     "metadata": {},
     "output_type": "execute_result"
    }
   ],
   "source": [
    "index_tokens = pd.concat([btc_result, eth_result, ada_result, doge_result, ltc_result, bnb_result, xrp_result, uni_result, link_result, usdt_result, ada_result], axis=1, join='outer')\n",
    "index_tokens"
   ]
  },
  {
   "cell_type": "markdown",
   "id": "0c374701",
   "metadata": {},
   "source": [
    "***_MEME TOKENS_***"
   ]
  },
  {
   "cell_type": "code",
   "execution_count": null,
   "id": "891d2add",
   "metadata": {},
   "outputs": [],
   "source": [
    "doge = requests.get('https://api.kucoin.com/api/v1/market/candles?type=8hour&symbol=DOGE-USDT&startAt=1620360000&endAt=0')\n",
    "doge_j = doge.json()\n",
    "doge_j"
   ]
  },
  {
   "cell_type": "code",
   "execution_count": null,
   "id": "bf08a180",
   "metadata": {},
   "outputs": [],
   "source": [
    "elon = requests.get('https://api.kucoin.com/api/v1/market/candles?type=8hour&symbol=ELON-USDT&startAt=1620360000&endAt=0')\n",
    "elon_j = elon.json()\n",
    "elon_j"
   ]
  },
  {
   "cell_type": "markdown",
   "id": "4bdf9652",
   "metadata": {},
   "source": [
    "***_DEFI TOKENS_***"
   ]
  },
  {
   "cell_type": "code",
   "execution_count": null,
   "id": "69a94fe3",
   "metadata": {},
   "outputs": [],
   "source": [
    "uni = requests.get('https://api.kucoin.com/api/v1/market/candles?type=8hour&symbol=UNI-USDT&startAt=1620360000&endAt=0')\n",
    "uni_j = uni.json()\n",
    "uni_j"
   ]
  },
  {
   "cell_type": "code",
   "execution_count": null,
   "id": "54bf0a18",
   "metadata": {},
   "outputs": [],
   "source": [
    "luna = requests.get('https://api.kucoin.com/api/v1/market/candles?type=8hour&symbol=LUNA-USDT&startAt=1620360000&endAt=0')\n",
    "luna_j = luna.json()\n",
    "luna_j"
   ]
  },
  {
   "cell_type": "code",
   "execution_count": null,
   "id": "38271753",
   "metadata": {},
   "outputs": [],
   "source": [
    "avax = requests.get('https://api.kucoin.com/api/v1/market/candles?type=8hour&symbol=AVAX-USDT&startAt=1620360000&endAt=0')\n",
    "avax_j = avax.json()\n",
    "avax_j"
   ]
  },
  {
   "cell_type": "markdown",
   "id": "3550deb5",
   "metadata": {},
   "source": [
    "***_STORAGE TOKENS_***"
   ]
  },
  {
   "cell_type": "code",
   "execution_count": null,
   "id": "dfb2a133",
   "metadata": {},
   "outputs": [],
   "source": [
    "fil = requests.get('https://api.kucoin.com/api/v1/market/candles?type=8hour&symbol=FIL-USDT&startAt=1620360000')\n",
    "fil_j = fil.json()\n",
    "fil_j"
   ]
  },
  {
   "cell_type": "code",
   "execution_count": null,
   "id": "49f732e8",
   "metadata": {},
   "outputs": [],
   "source": [
    "btt = requests.get('https://api.kucoin.com/api/v1/market/candles?type=8hour&symbol=BTT-USDT&startAt=1620360000')\n",
    "btt_j = btt.json()\n",
    "btt_j"
   ]
  },
  {
   "cell_type": "code",
   "execution_count": null,
   "id": "3278db80",
   "metadata": {},
   "outputs": [],
   "source": [
    "storj = requests.get('https://api.kucoin.com/api/v1/market/candles?type=8hour&symbol=STORJ-USDT&startAt=1620360000')\n",
    "storj_j = storj.json()\n",
    "storj_j"
   ]
  },
  {
   "cell_type": "code",
   "execution_count": null,
   "id": "5d83cf32",
   "metadata": {},
   "outputs": [],
   "source": []
  },
  {
   "cell_type": "code",
   "execution_count": null,
   "id": "6240d4d2",
   "metadata": {},
   "outputs": [],
   "source": []
  }
 ],
 "metadata": {
  "kernelspec": {
   "display_name": "Python [conda env:pyvizenv] *",
   "language": "python",
   "name": "conda-env-pyvizenv-py"
  },
  "language_info": {
   "codemirror_mode": {
    "name": "ipython",
    "version": 3
   },
   "file_extension": ".py",
   "mimetype": "text/x-python",
   "name": "python",
   "nbconvert_exporter": "python",
   "pygments_lexer": "ipython3",
   "version": "3.7.10"
  }
 },
 "nbformat": 4,
 "nbformat_minor": 5
}
